{
  "nbformat": 4,
  "nbformat_minor": 0,
  "metadata": {
    "colab": {
      "provenance": [],
      "gpuType": "T4",
      "mount_file_id": "https://github.com/HussainBadreddeen/AutoML_Thesis/blob/main/hard_dataset_preprocessing.ipynb",
      "authorship_tag": "ABX9TyPbeU8g7ee/b/zhpJHkmyvJ",
      "include_colab_link": true
    },
    "kernelspec": {
      "name": "python3",
      "display_name": "Python 3"
    },
    "language_info": {
      "name": "python"
    },
    "accelerator": "GPU"
  },
  "cells": [
    {
      "cell_type": "markdown",
      "metadata": {
        "id": "view-in-github",
        "colab_type": "text"
      },
      "source": [
        "<a href=\"https://colab.research.google.com/github/HussainBadreddeen/AutoML_Thesis/blob/main/hard_dataset_preprocessing.ipynb\" target=\"_parent\"><img src=\"https://colab.research.google.com/assets/colab-badge.svg\" alt=\"Open In Colab\"/></a>"
      ]
    },
    {
      "cell_type": "markdown",
      "source": [
        "##Importing libraries needed and importing the dataset from google drive"
      ],
      "metadata": {
        "id": "54Ts7bN441C4"
      }
    },
    {
      "cell_type": "code",
      "execution_count": 1,
      "metadata": {
        "id": "NGVZQ1rp-Q2m",
        "colab": {
          "base_uri": "https://localhost:8080/"
        },
        "outputId": "3c5e17db-8363-4be8-c404-ade4cabc1239"
      },
      "outputs": [
        {
          "output_type": "stream",
          "name": "stdout",
          "text": [
            "Drive already mounted at /content/drive; to attempt to forcibly remount, call drive.mount(\"/content/drive\", force_remount=True).\n"
          ]
        }
      ],
      "source": [
        "import pandas as pd\n",
        "import numpy as np\n",
        "import matplotlib.pyplot as plt\n",
        "import seaborn as sns\n",
        "\n",
        "%matplotlib inline\n",
        "sns.set()\n",
        "from google.colab import drive\n",
        "drive.mount('/content/drive')\n",
        "\n",
        "\n",
        "file_path = \"/content/drive/MyDrive/thesisdata/balanced-reviews.txt\"\n",
        "\n",
        "# Load as a DataFrame (change delimiter if needed)\n",
        "df = pd.read_csv(file_path, sep=\"\\t\", encoding=\"utf-16\")\n",
        "\n",
        "\n"
      ]
    },
    {
      "cell_type": "markdown",
      "source": [
        "## I follow the CRISP-DM process here.\n",
        "I've already done business understanding since I've mentioned the goal and objectives of this project is to compare AutoML for arabic sentiment analysis with manual tuning of hyperparameters"
      ],
      "metadata": {
        "id": "3CVj2ipW6W6W"
      }
    },
    {
      "cell_type": "markdown",
      "source": [
        "## **Data Understanding**"
      ],
      "metadata": {
        "id": "PfnWQ11w5iC4"
      }
    },
    {
      "cell_type": "code",
      "source": [
        "#first few rows\n",
        "print(df.head())\n",
        "print(\"----------------------------\")\n",
        "print()\n",
        "#Number of Rows and coloumns\n",
        "print('Number of rows and columns in the data set:', df.shape)\n",
        "print(\"----------------------------\")\n",
        "print()\n",
        "#Data types of the dataset\n",
        "df.info()\n",
        "print(\"----------------------------\")\n",
        "print()\n",
        "\n",
        "# Display summary statistics for numerical features\n",
        "print(df.describe())\n",
        "print(\"----------------------------\")\n",
        "print()\n",
        "#quick check if there are any missing values\n",
        "print(\"Missing Values:\")\n",
        "print(df.isnull().sum())\n",
        "print(\"----------------------------\")\n",
        "print()"
      ],
      "metadata": {
        "id": "8H5Z2T_aHe8b",
        "colab": {
          "base_uri": "https://localhost:8080/"
        },
        "outputId": "af1e2e59-4b2c-44c6-afaa-ebd38f197f71"
      },
      "execution_count": 2,
      "outputs": [
        {
          "output_type": "stream",
          "name": "stdout",
          "text": [
            "   no Hotel name  rating    user type                   room type  \\\n",
            "0   2    فندق 72       2  مسافر منفرد  غرفة ديلوكس مزدوجة أو توأم   \n",
            "1   3    فندق 72       5          زوج  غرفة ديلوكس مزدوجة أو توأم   \n",
            "2  16    فندق 72       5          زوج                           -   \n",
            "3  20    فندق 72       1          زوج          غرفة قياسية مزدوجة   \n",
            "4  23    فندق 72       4          زوج  غرفة ديلوكس مزدوجة أو توأم   \n",
            "\n",
            "            nights                                             review  \n",
            "0  أقمت ليلة واحدة                  “ممتاز”. النظافة والطاقم متعاون.   \n",
            "1  أقمت ليلة واحدة  استثنائي. سهولة إنهاء المعاملة في الاستقبال. ل...  \n",
            "2      أقمت ليلتين  استثنائي. انصح بأختيار الاسويت و بالاخص غرفه ر...  \n",
            "3  أقمت ليلة واحدة  “استغرب تقييم الفندق كخمس نجوم”. لا شي. يستحق ...  \n",
            "4      أقمت ليلتين  جيد. المكان جميل وهاديء. كل شي جيد ونظيف بس كا...  \n",
            "----------------------------\n",
            "\n",
            "Number of rows and columns in the data set: (105698, 7)\n",
            "----------------------------\n",
            "\n",
            "<class 'pandas.core.frame.DataFrame'>\n",
            "RangeIndex: 105698 entries, 0 to 105697\n",
            "Data columns (total 7 columns):\n",
            " #   Column      Non-Null Count   Dtype \n",
            "---  ------      --------------   ----- \n",
            " 0   no          105698 non-null  int64 \n",
            " 1   Hotel name  105698 non-null  object\n",
            " 2   rating      105698 non-null  int64 \n",
            " 3   user type   105698 non-null  object\n",
            " 4   room type   105698 non-null  object\n",
            " 5   nights      105698 non-null  object\n",
            " 6   review      105698 non-null  object\n",
            "dtypes: int64(2), object(5)\n",
            "memory usage: 5.6+ MB\n",
            "----------------------------\n",
            "\n",
            "                 no         rating\n",
            "count  105698.00000  105698.000000\n",
            "mean   204692.64285       3.113692\n",
            "std    119414.45956       1.464436\n",
            "min         2.00000       1.000000\n",
            "25%    101420.75000       2.000000\n",
            "50%    206052.00000       3.000000\n",
            "75%    307691.00000       4.000000\n",
            "max    412059.00000       5.000000\n",
            "----------------------------\n",
            "\n",
            "Missing Values:\n",
            "no            0\n",
            "Hotel name    0\n",
            "rating        0\n",
            "user type     0\n",
            "room type     0\n",
            "nights        0\n",
            "review        0\n",
            "dtype: int64\n",
            "----------------------------\n",
            "\n"
          ]
        }
      ]
    },
    {
      "cell_type": "markdown",
      "source": [
        "##since we know that we are trying to measure sentiment we focus on data related to reviews and their ratings"
      ],
      "metadata": {
        "id": "ajGxzFiC8zld"
      }
    },
    {
      "cell_type": "code",
      "source": [
        "#Checking How many values are Unqiue from the total values for the Column rating\n",
        "print(\"Amount of Values in the column:\", df[\"rating\"].count())\n",
        "print(\"----------------------------\")\n",
        "unique_ratings = df['rating'].nunique()\n",
        "print(f\"Number of unique ratings: {unique_ratings}\")\n",
        "print(\"The unique values are: \" ,df['rating'].unique())\n",
        "#1,2,4,5 are the unique values as they represent either negative (1,2) or positive (4,5). 3 was removed in the balanced version of the dataset\n",
        "print(\"----------------------------\")\n",
        "\n",
        "count_of_rating_1 = (df['rating'] == 1).sum()\n",
        "print(\"Count of 'rating one':\", count_of_rating_1, \"                   Percentage of Total=\", count_of_rating_1/df[\"rating\"].count()*100,\"%\")\n",
        "print(\"----------------------------\")\n",
        "\n",
        "count_of_rating_2 = (df['rating'] == 2).sum()\n",
        "print(\"Count of 'rating two':\", count_of_rating_2, \"                   Percentage of Total=\", count_of_rating_2/df[\"rating\"].count()*100,\"%\")\n",
        "print(\"----------------------------\")\n",
        "\n",
        "count_of_rating_4 = (df['rating'] == 4).sum()\n",
        "print(\"Count of 'rating four':\", count_of_rating_4, \"                   Percentage of Total=\", count_of_rating_4/df[\"rating\"].count()*100,\"%\")\n",
        "print(\"----------------------------\")\n",
        "\n",
        "count_of_rating_5 = (df['rating'] == 5).sum()\n",
        "print(\"Count of 'rating five':\", count_of_rating_5, \"                   Percentage of Total=\", count_of_rating_5/df[\"rating\"].count()*100,\"%\")\n",
        "print(\"----------------------------\")\n",
        "\n",
        "#We can plot the number of ratings for each in a small graph here\n",
        "sns.countplot(x = 'rating', data = df)\n",
        "#(1-2)= negative\n",
        "#(4-5)= positive"
      ],
      "metadata": {
        "id": "-hfa6Jeh8_AC",
        "colab": {
          "base_uri": "https://localhost:8080/",
          "height": 703
        },
        "outputId": "b179dc59-e20a-4e72-e350-25da5d316fcd"
      },
      "execution_count": 3,
      "outputs": [
        {
          "output_type": "stream",
          "name": "stdout",
          "text": [
            "Amount of Values in the column: 105698\n",
            "----------------------------\n",
            "Number of unique ratings: 4\n",
            "The unique values are:  [2 5 1 4]\n",
            "----------------------------\n",
            "Count of 'rating one': 14382                    Percentage of Total= 13.606690760468505 %\n",
            "----------------------------\n",
            "Count of 'rating two': 38467                    Percentage of Total= 36.3933092395315 %\n",
            "----------------------------\n",
            "Count of 'rating four': 26450                    Percentage of Total= 25.024125338227783 %\n",
            "----------------------------\n",
            "Count of 'rating five': 26399                    Percentage of Total= 24.975874661772217 %\n",
            "----------------------------\n"
          ]
        },
        {
          "output_type": "execute_result",
          "data": {
            "text/plain": [
              "<Axes: xlabel='rating', ylabel='count'>"
            ]
          },
          "metadata": {},
          "execution_count": 3
        },
        {
          "output_type": "display_data",
          "data": {
            "text/plain": [
              "<Figure size 640x480 with 1 Axes>"
            ],
            "image/png": "[encoded data removed]"
          },
          "metadata": {}
        }
      ]
    },
    {
      "cell_type": "markdown",
      "source": [
        "## We group ratings (1-2) and (4,5) to show total count of negative and positive sentiment respectively"
      ],
      "metadata": {
        "id": "fGbIBb9kDbwd"
      }
    },
    {
      "cell_type": "code",
      "source": [
        "#we create a new data frame called sentiment to have only positive and negative classes so we can compare safely without skewing the original data set\n",
        "df['Sentiment'] = df['rating'].apply(lambda rating : 'negative' if rating < 4 else 'positive')\n",
        "\n",
        "#we then plot the total count of each sentiment\n",
        "sns.countplot(x = 'Sentiment', data = df)\n",
        "\n",
        "negative_sentiment = (df['Sentiment'] == 'negative').sum()\n",
        "print(\"Count of 'negative sentiment':\", negative_sentiment, \"                   Percentage of Total=\", negative_sentiment/df[\"Sentiment\"].count()*100,\"%\")\n",
        "\n",
        "positive_sentiment = (df['Sentiment'] == 'positive').sum()\n",
        "print(\"Count of 'positive sentiment':\", positive_sentiment, \"                   Percentage of Total=\", positive_sentiment/df[\"Sentiment\"].count()*100,\"%\")\n",
        "\n",
        "#Data set appears to be prefectly balanced"
      ],
      "metadata": {
        "id": "W9JEImEmDZfI",
        "colab": {
          "base_uri": "https://localhost:8080/",
          "height": 493
        },
        "outputId": "0ea919c8-6357-4696-b9bd-656ca124b7e2"
      },
      "execution_count": 4,
      "outputs": [
        {
          "output_type": "stream",
          "name": "stdout",
          "text": [
            "Count of 'negative sentiment': 52849                    Percentage of Total= 50.0 %\n",
            "Count of 'positive sentiment': 52849                    Percentage of Total= 50.0 %\n"
          ]
        },
        {
          "output_type": "display_data",
          "data": {
            "text/plain": [
              "<Figure size 640x480 with 1 Axes>"
            ],
            "image/png": "[encoded data removed]"
          },
          "metadata": {}
        }
      ]
    },
    {
      "cell_type": "markdown",
      "source": [
        "##since we've covered the ratings we move on to the reviews"
      ],
      "metadata": {
        "id": "wZJS-0HCBo0s"
      }
    },
    {
      "cell_type": "code",
      "source": [
        "!pip install arabic-reshaper\n",
        "!pip install python-bidi\n",
        "\n",
        "from collections import Counter\n",
        "from arabic_reshaper import reshape\n",
        "from bidi.algorithm import get_display\n",
        "\n",
        "# Inspect the review column\n",
        "print(df['review'].describe())  # Basic statistics (count, unique, top, freq)\n",
        "print(\"\\nSample Reviews:\\n\", df['review'].sample(5))  # Print random 5 reviews\n",
        "\n",
        "\n",
        "#under here is chatgpt\n",
        "!pip install emoji\n",
        "import re\n",
        "import emoji\n",
        "\n",
        "# Function to check if a review contains English letters\n",
        "def contains_english(text):\n",
        "    return bool(re.search(r'[a-zA-Z]', text))\n",
        "\n",
        "# Function to check if a review contains emojis\n",
        "def contains_emoji(text):\n",
        "    return any(char in emoji.EMOJI_DATA for char in text)\n",
        "\n",
        "# Apply functions to create new columns\n",
        "df[\"has_english\"] = df[\"review\"].apply(contains_english)\n",
        "df[\"has_emoji\"] = df[\"review\"].apply(contains_emoji)\n",
        "\n",
        "# Check if a review has both English & emoji\n",
        "df[\"has_both\"] = df[\"has_english\"] & df[\"has_emoji\"]\n",
        "\n",
        "num_english = df[\"has_english\"].sum()\n",
        "num_emoji = df[\"has_emoji\"].sum()\n",
        "num_both = df[\"has_both\"].sum()\n",
        "\n",
        "print(f\"Reviews with English: {num_english}\")\n",
        "print(f\"Reviews with Emojis: {num_emoji}\")\n",
        "print(f\"Reviews with Both English & Emojis: {num_both}\")\n",
        "\n",
        "\n",
        "print(\"\\nSample Reviews with English:\")\n",
        "print(df[df[\"has_english\"]][\"review\"].sample(5).tolist())\n",
        "\n",
        "print(\"\\nSample Reviews with Emojis:\")\n",
        "print(df[df[\"has_emoji\"]][\"review\"].sample(5).tolist())\n",
        "\n",
        "print(\"\\nSample Reviews with Both English & Emojis:\")\n",
        "print(df[df[\"has_both\"]][\"review\"].sample(5).tolist())\n",
        "\n",
        "\n",
        "\n",
        "\n",
        "\n",
        "# Combine all reviews into a single string\n",
        "all_reviews = ' '.join(df['review'].astype(str))\n",
        "\n",
        "# Tokenization (splitting into words)\n",
        "words = all_reviews.split()\n",
        "\n",
        "# Count word frequencies\n",
        "word_counts = Counter(words)\n",
        "\n",
        "# Get the top 100 most frequent words\n",
        "top_100_words = word_counts.most_common(100)\n",
        "\n",
        "# Prepare Arabic words for visualization\n",
        "words, counts = zip(*top_100_words)\n",
        "reshaped_words = [reshape(word) for word in words]\n",
        "display_words = [get_display(word) for word in reshaped_words]\n",
        "\n",
        "# Plot word frequencies\n",
        "plt.figure(figsize=(12, 6))\n",
        "plt.bar(display_words, counts)\n",
        "plt.xlabel(\"Words\")\n",
        "plt.ylabel(\"Frequency\")\n",
        "plt.title(\"Top 100 Most Frequent Words in Reviews\")\n",
        "plt.xticks(rotation=90, ha='right')  # Rotate x-axis labels for better readability\n",
        "plt.tight_layout()\n",
        "plt.show()\n",
        "\n",
        "\n",
        "\n"
      ],
      "metadata": {
        "id": "vNi3n1snBvs6",
        "colab": {
          "base_uri": "https://localhost:8080/",
          "height": 1000
        },
        "outputId": "dac957a9-7b0a-46e1-da50-7ef6b74c78e5"
      },
      "execution_count": 5,
      "outputs": [
        {
          "output_type": "stream",
          "name": "stdout",
          "text": [
            "Requirement already satisfied: arabic-reshaper in /usr/local/lib/python3.11/dist-packages (3.0.0)\n",
            "Requirement already satisfied: python-bidi in /usr/local/lib/python3.11/dist-packages (0.6.6)\n",
            "count                     105698\n",
            "unique                    104036\n",
            "top       استثنائي. كل شي. لا شي\n",
            "freq                          62\n",
            "Name: review, dtype: object\n",
            "\n",
            "Sample Reviews:\n",
            " 26027           ممتاز. كل شي. بعد باب النساء من موقع الفندق\n",
            "100278    “حسبنا الله ونعم الوكيل في قلة مروتهم فلا إنسا...\n",
            "33573     “فندق سىء ، ولكن سعره رخيص”. لا شىء سوى السعر....\n",
            "102141    ضعيف. لاشي بعد حجزي عالبوكينغ وصلت ووجدت الحجز...\n",
            "21574     “مناسب جدا”. حالة المبنى والأثاث والتجهيزات وا...\n",
            "Name: review, dtype: object\n",
            "Requirement already satisfied: emoji in /usr/local/lib/python3.11/dist-packages (2.14.1)\n",
            "Reviews with English: 2711\n",
            "Reviews with Emojis: 752\n",
            "Reviews with Both English & Emojis: 35\n",
            "\n",
            "Sample Reviews with English:\n",
            "['ضعيف. اتعلاشيئ. تعامتعاReceptionists deal falls short of the 5-star hotel There are places to sit and Atnzim in the reception area Some officers carry bags beggars and their style of work falls short of the hotel Entry and exit from the hotel to the campus is not as easy as passing more than elevator and Traffic market .. I would not advise never to live in the hotel.مل موظفي الاستقبال لايرقى لفندق 5 نـجوملايوجد اماكن للجلوس ولاتنظيم في منطقة الاستقبال بعض موظفي حمل الحقائب شحاذين واسلوبهم لايرقى للعمل بالفندقالدخول والخروج من الفندق للحرم ليس بالسهولة ويمر باكثر من مصعد وزحمة السوق ..لا انصح ابدا بالسكن في الفندق.ل', '“الفندق رآئع”. الأكل كان متنوّع ولذيذ بأمانة ونظامهم من احسن ما يكون،إطلالة الحرم رآئعه،يوجد كل ما تحتاجة في الفندق،. طلبت منهم تنظيف الغرفة في الأستقبال وأكدو لي ذلك بأنهم سوف ينظفون الجناح ومع الأسف لم يتم ذلك ،ايضآ توجد صيانة للأنترنت لذلك توجد مشاكل في WIFI بس المشكلة مؤقتة وليست دائمه.', 'جيد. . بعد عمل اخلاء للغرفةطلبت من موظفة الاستقبال ان اطلع على الميل في بهو الفندق ادعت أنه لا توجد انترنت في مدخل الفندق ورفضت اعطائي Password  لفتح النت وتعجبت من هذا التصرف لم يمض على عمل مغادرة الفندق ساعة ونصف تقريبا لماذا حضر المعني واعتذر  وان هناك انترنت في المدخلوهنا لابد من تغيير ثقافة التعامل مع العميل لانها ليست قضية أن يتصفح العميل حتى بعد مغادرته الغرفة النت لحين انتظار سيارة أو خلافه', '“أسوأ شقق مفروشة في جدة”. Nothing. موظفين استقبال سيئين جداخدمة رديئةالفرش قديم جدا', '“اروع فندق”. من اجمل الفنادق واحسنها ... من جميع النواحي. عشان توصل لغرفتك تطلع اصنصيرين (elevator )']\n",
            "\n",
            "Sample Reviews with Emojis:\n",
            "['“فعلاً .. فندق التنفيذيين 👍🏻”. فندق ممتاز وموقعه رائع والاضاءة الطبيعة ممتازة اثاثه وتنظيمه جذاب دورات المياة مجهزة بكامل المستلزمات. لا شيء', 'استثنائي. 👍🏻. ✋🏻', '“لن أتردد أبدا في تكرار زيارتي لمركز دبي التجاري العالمي”. موظفين وموظفات الاستقبال كانوا جدا متعاونين وبشوشين الوجيه وخصوصا الموظفة آبريل و أنجيو ..وحتى عاملات النظافة كانوا جدا متعاونات جدا 🌹👍🏻. دورات المياه أكرمكم الله لا يوجد فيها بالوعة للتخلص من المياه بعد الوضوء او الاستحمام مما أستدعانا الى استخدام المناشف الموجودة لمسح المياه الموجودة على أرضيات دورات المياه وخصوصا ان الوالد كبير في السن و قد ينزلق لا قدر الله ويحدث مالا يحمد عقباه ..', 'استثنائي. حسن طريقة الاستقبال ، والديكور بمنتهى الرقي يبعث للراحه والهدوء ، وفرة جميع المستلزماتوالادوات.شكراً شدا 💕. ', '“غرفه بريميوم مطله”. فندق جميل جداً وتعامل الموظفين اكثر من رائع الغرفه نظيفه جدا جداً والموقع ممتاز والافطار جميل لي زياره اخرى بإذن الله  ❤️. الجلسات الخارجيه باللوبي كانت مزعجه والافضل ان تترك للمقيمين بالفندق وعدم دخول احد من الخارج لأن الاولويه للمقيمين فقط اتمنى ان يأخذ هذا الاقتراح بعين الاعتبار وبعدها تستحقون  ١٠/١٠ بجداره  👍🏼👍🏼']\n",
            "\n",
            "Sample Reviews with Both English & Emojis:\n",
            "['ضعيف. . الفندق زين لكن المعامله زباله وخدماتهم سيئه جدا 👎🏼و الروم سيرفس اكثر من السيئ👎🏼اول مره في حياتي اشوف جي 👎🏼الفنادق الثلاث نجوم افضل منهم بوايد في الخدماتThis hotel is good but they have very bad  service  , this is the first time i see that bad service in my life  !  The 3 stars hotel is more better in service than this hotel  !! 👎🏼', '“👎🏿”. من المخجل ان يطلق عليه فندق Bad place. قربه من الحرم الشريف', 'استثنائي. من انظف واروع واجمل فنادق الفجيرة من حيث التعامل والأسلوب والسرعة في الحجز ..واشكر الأخ (مصطفى ) والأخ (عمرو ) في قسم الحجوزات على ما قدماه لي ❤❤ صراحه صراحه حبيت الفندق لتعامل هذان الشخصين ولطفهم وابتسامتهم ..اشكركم من كل قلبي❤. Nothing', '“اقامة رائعة”. والله من اروع الفنادق اللي تستحق الاقامة في ابوظبي و على فكره الاسبوع القادم عندي اقامة في ابوظبي ليومين على هامش معرض الكتاب و خيروني الجهة الداعية بين ثلاث فنادق فخمة خمس نجوم في العاصمة لكني طلبت ان يحجزون لي في دوست و سعيدة لأني سأقيم عندهم .. و اعجبني الصالون شغلهم روعه خاصة الاخ رودي وهذا احد اسباب طلب اقامتي فيه مرة ثانية.. شكرا دوست ثاني على هذا الرقي و استمروا🌹👍🏼. اتمنى اضافة salt bath في حمامات الغرف', '“سأعاود زيارته مرات عديده :)”. موقعه جدا ممتاز في jbr ، حتى الغرفه لها شرفه جدا جميله تطل عالبحر ، الليموزينات متواجده بكثره اسفل الهوتيل ، النظافه والنت من اروع مايكون ، شكرا دبي على فنادق كهذه ✌️. لايوجد صراحه']\n"
          ]
        },
        {
          "output_type": "display_data",
          "data": {
            "text/plain": [
              "<Figure size 1200x600 with 1 Axes>"
            ],
            "image/png": "[encoded data removed]"
          },
          "metadata": {}
        }
      ]
    },
    {
      "cell_type": "markdown",
      "source": [
        "since we've inspected our main 2 attributes rating and review. we move on to data preperation where we drop other columns and start preprocessing the reviews"
      ],
      "metadata": {
        "id": "XnPGRebeScaZ"
      }
    },
    {
      "cell_type": "markdown",
      "source": [
        "##**Data preperation**"
      ],
      "metadata": {
        "id": "g01DoqudStuI"
      }
    },
    {
      "cell_type": "code",
      "source": [
        "df_copy = df[['rating', 'review']].copy()\n",
        "\n",
        "##to better see reviews #chatGPT\n",
        "pd.set_option('display.max_colwidth', None)  # Prevents text shrinking\n",
        "pd.set_option('display.width', 1000)  # Adjusts display width\n",
        "\n",
        "\n",
        "df_copy.head()"
      ],
      "metadata": {
        "id": "Q5UGXiYoS4VW",
        "colab": {
          "base_uri": "https://localhost:8080/",
          "height": 206
        },
        "outputId": "4c1f8d53-eaf2-4706-fc27-119515aa2f84"
      },
      "execution_count": 6,
      "outputs": [
        {
          "output_type": "execute_result",
          "data": {
            "text/plain": [
              "   rating                                                                                                                   review\n",
              "0       2                                                                                        “ممتاز”. النظافة والطاقم متعاون. \n",
              "1       5                                                                       استثنائي. سهولة إنهاء المعاملة في الاستقبال. لاشيئ\n",
              "2       5                                                      استثنائي. انصح بأختيار الاسويت و بالاخص غرفه رقم 801. نوعية الارضيه\n",
              "3       1                                                                    “استغرب تقييم الفندق كخمس نجوم”. لا شي. يستحق 2 نجمه \n",
              "4       4  جيد. المكان جميل وهاديء. كل شي جيد ونظيف بس كان حوض السباحه لايعمل في هذي الفتره حسب كلامهم يقولوا فيه صيانه والله اعلم"
            ],
            "text/html": [
              "\n",
              "  <div id=\"df-0fef70f3-3e54-4846-ab13-86f08d83b644\" class=\"colab-df-container\">\n",
              "    <div>\n",
              "<style scoped>\n",
              "    .dataframe tbody tr th:only-of-type {\n",
              "        vertical-align: middle;\n",
              "    }\n",
              "\n",
              "    .dataframe tbody tr th {\n",
              "        vertical-align: top;\n",
              "    }\n",
              "\n",
              "    .dataframe thead th {\n",
              "        text-align: right;\n",
              "    }\n",
              "</style>\n",
              "<table border=\"1\" class=\"dataframe\">\n",
              "  <thead>\n",
              "    <tr style=\"text-align: right;\">\n",
              "      <th></th>\n",
              "      <th>rating</th>\n",
              "      <th>review</th>\n",
              "    </tr>\n",
              "  </thead>\n",
              "  <tbody>\n",
              "    <tr>\n",
              "      <th>0</th>\n",
              "      <td>2</td>\n",
              "      <td>“ممتاز”. النظافة والطاقم متعاون.</td>\n",
              "    </tr>\n",
              "    <tr>\n",
              "      <th>1</th>\n",
              "      <td>5</td>\n",
              "      <td>استثنائي. سهولة إنهاء المعاملة في الاستقبال. لاشيئ</td>\n",
              "    </tr>\n",
              "    <tr>\n",
              "      <th>2</th>\n",
              "      <td>5</td>\n",
              "      <td>استثنائي. انصح بأختيار الاسويت و بالاخص غرفه رقم 801. نوعية الارضيه</td>\n",
              "    </tr>\n",
              "    <tr>\n",
              "      <th>3</th>\n",
              "      <td>1</td>\n",
              "      <td>“استغرب تقييم الفندق كخمس نجوم”. لا شي. يستحق 2 نجمه</td>\n",
              "    </tr>\n",
              "    <tr>\n",
              "      <th>4</th>\n",
              "      <td>4</td>\n",
              "      <td>جيد. المكان جميل وهاديء. كل شي جيد ونظيف بس كان حوض السباحه لايعمل في هذي الفتره حسب كلامهم يقولوا فيه صيانه والله اعلم</td>\n",
              "    </tr>\n",
              "  </tbody>\n",
              "</table>\n",
              "</div>\n",
              "    <div class=\"colab-df-buttons\">\n",
              "\n",
              "  <div class=\"colab-df-container\">\n",
              "    <button class=\"colab-df-convert\" onclick=\"convertToInteractive('df-0fef70f3-3e54-4846-ab13-86f08d83b644')\"\n",
              "            title=\"Convert this dataframe to an interactive table.\"\n",
              "            style=\"display:none;\">\n",
              "\n",
              "  <svg xmlns=\"http://www.w3.org/2000/svg\" height=\"24px\" viewBox=\"0 -960 960 960\">\n",
              "    <path d=\"M120-120v-720h720v720H120Zm60-500h600v-160H180v160Zm220 220h160v-160H400v160Zm0 220h160v-160H400v160ZM180-400h160v-160H180v160Zm440 0h160v-160H620v160ZM180-180h160v-160H180v160Zm440 0h160v-160H620v160Z\"/>\n",
              "  </svg>\n",
              "    </button>\n",
              "\n",
              "  <style>\n",
              "    .colab-df-container {\n",
              "      display:flex;\n",
              "      gap: 12px;\n",
              "    }\n",
              "\n",
              "    .colab-df-convert {\n",
              "      background-color: #E8F0FE;\n",
              "      border: none;\n",
              "      border-radius: 50%;\n",
              "      cursor: pointer;\n",
              "      display: none;\n",
              "      fill: #1967D2;\n",
              "      height: 32px;\n",
              "      padding: 0 0 0 0;\n",
              "      width: 32px;\n",
              "    }\n",
              "\n",
              "    .colab-df-convert:hover {\n",
              "      background-color: #E2EBFA;\n",
              "      box-shadow: 0px 1px 2px rgba(60, 64, 67, 0.3), 0px 1px 3px 1px rgba(60, 64, 67, 0.15);\n",
              "      fill: #174EA6;\n",
              "    }\n",
              "\n",
              "    .colab-df-buttons div {\n",
              "      margin-bottom: 4px;\n",
              "    }\n",
              "\n",
              "    [theme=dark] .colab-df-convert {\n",
              "      background-color: #3B4455;\n",
              "      fill: #D2E3FC;\n",
              "    }\n",
              "\n",
              "    [theme=dark] .colab-df-convert:hover {\n",
              "      background-color: #434B5C;\n",
              "      box-shadow: 0px 1px 3px 1px rgba(0, 0, 0, 0.15);\n",
              "      filter: drop-shadow(0px 1px 2px rgba(0, 0, 0, 0.3));\n",
              "      fill: #FFFFFF;\n",
              "    }\n",
              "  </style>\n",
              "\n",
              "    <script>\n",
              "      const buttonEl =\n",
              "        document.querySelector('#df-0fef70f3-3e54-4846-ab13-86f08d83b644 button.colab-df-convert');\n",
              "      buttonEl.style.display =\n",
              "        google.colab.kernel.accessAllowed ? 'block' : 'none';\n",
              "\n",
              "      async function convertToInteractive(key) {\n",
              "        const element = document.querySelector('#df-0fef70f3-3e54-4846-ab13-86f08d83b644');\n",
              "        const dataTable =\n",
              "          await google.colab.kernel.invokeFunction('convertToInteractive',\n",
              "                                                    [key], {});\n",
              "        if (!dataTable) return;\n",
              "\n",
              "        const docLinkHtml = 'Like what you see? Visit the ' +\n",
              "          '<a target=\"_blank\" href=https://colab.research.google.com/notebooks/data_table.ipynb>data table notebook</a>'\n",
              "          + ' to learn more about interactive tables.';\n",
              "        element.innerHTML = '';\n",
              "        dataTable['output_type'] = 'display_data';\n",
              "        await google.colab.output.renderOutput(dataTable, element);\n",
              "        const docLink = document.createElement('div');\n",
              "        docLink.innerHTML = docLinkHtml;\n",
              "        element.appendChild(docLink);\n",
              "      }\n",
              "    </script>\n",
              "  </div>\n",
              "\n",
              "\n",
              "<div id=\"df-2d90878c-9bed-4032-8d98-221b3e80c059\">\n",
              "  <button class=\"colab-df-quickchart\" onclick=\"quickchart('df-2d90878c-9bed-4032-8d98-221b3e80c059')\"\n",
              "            title=\"Suggest charts\"\n",
              "            style=\"display:none;\">\n",
              "\n",
              "<svg xmlns=\"http://www.w3.org/2000/svg\" height=\"24px\"viewBox=\"0 0 24 24\"\n",
              "     width=\"24px\">\n",
              "    <g>\n",
              "        <path d=\"M19 3H5c-1.1 0-2 .9-2 2v14c0 1.1.9 2 2 2h14c1.1 0 2-.9 2-2V5c0-1.1-.9-2-2-2zM9 17H7v-7h2v7zm4 0h-2V7h2v10zm4 0h-2v-4h2v4z\"/>\n",
              "    </g>\n",
              "</svg>\n",
              "  </button>\n",
              "\n",
              "<style>\n",
              "  .colab-df-quickchart {\n",
              "      --bg-color: #E8F0FE;\n",
              "      --fill-color: #1967D2;\n",
              "      --hover-bg-color: #E2EBFA;\n",
              "      --hover-fill-color: #174EA6;\n",
              "      --disabled-fill-color: #AAA;\n",
              "      --disabled-bg-color: #DDD;\n",
              "  }\n",
              "\n",
              "  [theme=dark] .colab-df-quickchart {\n",
              "      --bg-color: #3B4455;\n",
              "      --fill-color: #D2E3FC;\n",
              "      --hover-bg-color: #434B5C;\n",
              "      --hover-fill-color: #FFFFFF;\n",
              "      --disabled-bg-color: #3B4455;\n",
              "      --disabled-fill-color: #666;\n",
              "  }\n",
              "\n",
              "  .colab-df-quickchart {\n",
              "    background-color: var(--bg-color);\n",
              "    border: none;\n",
              "    border-radius: 50%;\n",
              "    cursor: pointer;\n",
              "    display: none;\n",
              "    fill: var(--fill-color);\n",
              "    height: 32px;\n",
              "    padding: 0;\n",
              "    width: 32px;\n",
              "  }\n",
              "\n",
              "  .colab-df-quickchart:hover {\n",
              "    background-color: var(--hover-bg-color);\n",
              "    box-shadow: 0 1px 2px rgba(60, 64, 67, 0.3), 0 1px 3px 1px rgba(60, 64, 67, 0.15);\n",
              "    fill: var(--button-hover-fill-color);\n",
              "  }\n",
              "\n",
              "  .colab-df-quickchart-complete:disabled,\n",
              "  .colab-df-quickchart-complete:disabled:hover {\n",
              "    background-color: var(--disabled-bg-color);\n",
              "    fill: var(--disabled-fill-color);\n",
              "    box-shadow: none;\n",
              "  }\n",
              "\n",
              "  .colab-df-spinner {\n",
              "    border: 2px solid var(--fill-color);\n",
              "    border-color: transparent;\n",
              "    border-bottom-color: var(--fill-color);\n",
              "    animation:\n",
              "      spin 1s steps(1) infinite;\n",
              "  }\n",
              "\n",
              "  @keyframes spin {\n",
              "    0% {\n",
              "      border-color: transparent;\n",
              "      border-bottom-color: var(--fill-color);\n",
              "      border-left-color: var(--fill-color);\n",
              "    }\n",
              "    20% {\n",
              "      border-color: transparent;\n",
              "      border-left-color: var(--fill-color);\n",
              "      border-top-color: var(--fill-color);\n",
              "    }\n",
              "    30% {\n",
              "      border-color: transparent;\n",
              "      border-left-color: var(--fill-color);\n",
              "      border-top-color: var(--fill-color);\n",
              "      border-right-color: var(--fill-color);\n",
              "    }\n",
              "    40% {\n",
              "      border-color: transparent;\n",
              "      border-right-color: var(--fill-color);\n",
              "      border-top-color: var(--fill-color);\n",
              "    }\n",
              "    60% {\n",
              "      border-color: transparent;\n",
              "      border-right-color: var(--fill-color);\n",
              "    }\n",
              "    80% {\n",
              "      border-color: transparent;\n",
              "      border-right-color: var(--fill-color);\n",
              "      border-bottom-color: var(--fill-color);\n",
              "    }\n",
              "    90% {\n",
              "      border-color: transparent;\n",
              "      border-bottom-color: var(--fill-color);\n",
              "    }\n",
              "  }\n",
              "</style>\n",
              "\n",
              "  <script>\n",
              "    async function quickchart(key) {\n",
              "      const quickchartButtonEl =\n",
              "        document.querySelector('#' + key + ' button');\n",
              "      quickchartButtonEl.disabled = true;  // To prevent multiple clicks.\n",
              "      quickchartButtonEl.classList.add('colab-df-spinner');\n",
              "      try {\n",
              "        const charts = await google.colab.kernel.invokeFunction(\n",
              "            'suggestCharts', [key], {});\n",
              "      } catch (error) {\n",
              "        console.error('Error during call to suggestCharts:', error);\n",
              "      }\n",
              "      quickchartButtonEl.classList.remove('colab-df-spinner');\n",
              "      quickchartButtonEl.classList.add('colab-df-quickchart-complete');\n",
              "    }\n",
              "    (() => {\n",
              "      let quickchartButtonEl =\n",
              "        document.querySelector('#df-2d90878c-9bed-4032-8d98-221b3e80c059 button');\n",
              "      quickchartButtonEl.style.display =\n",
              "        google.colab.kernel.accessAllowed ? 'block' : 'none';\n",
              "    })();\n",
              "  </script>\n",
              "</div>\n",
              "\n",
              "    </div>\n",
              "  </div>\n"
            ],
            "application/vnd.google.colaboratory.intrinsic+json": {
              "type": "dataframe",
              "variable_name": "df_copy"
            }
          },
          "metadata": {},
          "execution_count": 6
        }
      ]
    },
    {
      "cell_type": "markdown",
      "source": [
        "##We start with Normalizing the arabic text"
      ],
      "metadata": {
        "id": "4lZtOJ-AQ862"
      }
    },
    {
      "cell_type": "code",
      "source": [
        "!pip install --no-deps camel-tools\n",
        "\n"
      ],
      "metadata": {
        "colab": {
          "base_uri": "https://localhost:8080/"
        },
        "id": "oATcnfLDsDh8",
        "outputId": "d2433c6f-7a68-41aa-864f-ae01fa9ba4b3"
      },
      "execution_count": 7,
      "outputs": [
        {
          "output_type": "stream",
          "name": "stdout",
          "text": [
            "Requirement already satisfied: camel-tools in /usr/local/lib/python3.11/dist-packages (1.5.5)\n"
          ]
        }
      ]
    },
    {
      "cell_type": "markdown",
      "source": [
        " english represents only 2.56% we remove it to focus on arabic as this is the gap.\n",
        "emojis are converted because they hold sentiment"
      ],
      "metadata": {
        "id": "Ct3hkZhan7jv"
      }
    },
    {
      "cell_type": "code",
      "source": [
        "#To normalize arabic text we need to removing diacritics (tashkeel), removing elongation of words (tatweel) converting variations of the same certain letter to a standard unified form\n",
        "#couldnt use farasa so opted for camel tools\n",
        "\n",
        "# !pip install farasa # cant normalise with it :( docs arent available and cant sign up\n",
        "# !pip install camel-tools\n",
        "import re\n",
        "from camel_tools.utils.normalize import normalize_alef_maksura_ar\n",
        "from camel_tools.utils.normalize import normalize_alef_ar\n",
        "from camel_tools.utils.normalize import normalize_teh_marbuta_ar\n",
        "from camel_tools.utils.normalize import normalize_unicode\n",
        "from camel_tools.utils.dediac import dediac_ar\n",
        "\n",
        "\n",
        "punctuation_pattern = re.compile(r\"[-،؟.!\\\"':;(){}“”‘’,.&+\\^\\*\\%@#/~=_\\[\\]<>|\\\\\\n\\t]\")# Remove Arabic & English punctuation\n",
        "quotes_pattern = re.compile(r'[\\\"\\'“”‘’]')  # Matches only quotation marks (Arabic & English)\n",
        "\n",
        "\n",
        "def remove_elongation(text):\n",
        "    # Rule 1: Remove if a letter is repeated 3+ times anywhere\n",
        "    text = re.sub(r'(.)\\1{2,}', r'\\1', text)\n",
        "\n",
        "    # Rule 2: Remove if a letter is repeated 2+ times at the end of the word\n",
        "    text = re.sub(r'(\\w)\\1$', r'\\1', text)\n",
        "\n",
        "    return text\n",
        "\n",
        "\n",
        "# Dictionary to store emoji conversions\n",
        "emoji_conversion_log = {}\n",
        "\n",
        "def convert_emojis_to_arabic(text):\n",
        "    converted_text = emoji.demojize(text, language='ar')  # 😍 → \":وجه_بعيون_على_شكل_قلوب:\"\n",
        "    converted_text_cleaned = converted_text.replace(\":\", \"\").replace(\"_\", \" \")  # :\"وجه بعيون على شكل قلوب\"\n",
        "\n",
        "    # Log changes if an emoji was actually converted\n",
        "    if text != converted_text:\n",
        "        emoji_conversion_log[text] = converted_text_cleaned\n",
        "\n",
        "    return converted_text_cleaned\n",
        "\n",
        "\n",
        "def preprocess_text(text):\n",
        "    text = normalize_unicode(text)  # Step 1: Normalize Unicode\n",
        "    text = dediac_ar(text)  # Step 2: Remove diacritics OR TASHKEEL da bardo camel tools\n",
        "    text = remove_elongation(text)  # Step 3: Remove elongation ## removes momtaz and other normal arabic words a workaround could be 3+ letters but will try to find a library first. update: didnt find but this seems to be working fine\n",
        "    #camel tools letter normalization next:\n",
        "    text = normalize_alef_maksura_ar(text)  # Step 4: Normalize ى → ي\n",
        "    text = normalize_teh_marbuta_ar(text)  # Step 5: Normalize ة → ه\n",
        "    text = normalize_alef_ar(text) # step 6:  Normalize alef variants to 'ا'\n",
        "\n",
        "    text = re.sub(r'[٠-٩]', lambda x: str(ord(x.group()) - ord('٠')), text)  # Step : Convert Arabic numbers to English\n",
        "    text = re.sub(r'\\d+', '', text)  # Step 7: Remove all numbers ##for now i wont reemove cause ## update i will remove and test\n",
        "\n",
        "    text = punctuation_pattern.sub('', text)  # Step 8: Remove punctuation\n",
        "    text = quotes_pattern.sub('', text)  # Step 9: Remove quotation marks (but keep text inside)\n",
        "\n",
        "\n",
        "    # text = re.sub(r'(?<!\\w)و(?=\\w)', r'و ', text)  # Add space after و only if it's at the start\n",
        "    # text = re.sub(r'(?<=\\w)و(?!\\w)', r' و', text)  # Add space before و only if it's at the end # Ensure \"و\" is separated only when it's at the beginning of a word\n",
        "    # after testing the letter waaw is inconsistent so i will leave it as is\n",
        "    text = convert_emojis_to_arabic(text)\n",
        "    text = re.sub(r'\\s+', ' ', text).strip() #remove spacez\n",
        "\n",
        "\n",
        "\n",
        "    return text\n",
        "\n",
        "\n",
        "print()\n",
        "print(\"Before camel tools and manual normalization\")\n",
        "print(df_copy['review'].head(20))\n",
        "print(\"----------------------------\")\n",
        "print()\n",
        "\n",
        "#Normalization applied to entire DataFrame. the copy of the copy version nbot the original incase i break smth\n",
        "\n",
        "#i make a seprate copy\n",
        "df_normalized_reviews = df_copy.copy()#actually no need to do that bas eshta mklssl aghyr code tany\n",
        "\n",
        "#applying normalization steps\n",
        "df_normalized_reviews['normalized_review'] = df_normalized_reviews['review'].apply(preprocess_text)\n",
        "\n",
        "#removing all reviews containing english\n",
        "df_normalized_reviews = df_normalized_reviews[~df_normalized_reviews['normalized_review'].str.contains(r'[a-zA-Z]', regex=True)] #regex = true means it doesnt remove the exasct '[a-zA-Z]' '~' negates the condition keeping only non english rows\n",
        "\n",
        "print(df_normalized_reviews.head())  # Check the result\n",
        "\n",
        "\n",
        "#check for empty reviews after normalizaion and remove them\n",
        "\n",
        "number_of_empty_reviews = (df_normalized_reviews[\"normalized_review\"] == \"\").sum()\n",
        "print(\"NUMBER OF ROWS WITHOUT ANYTHING AFTER NORMALIZATION:\", number_of_empty_reviews)\n",
        "#actual rows where they are empty after norm\n",
        "print(df_normalized_reviews[df_normalized_reviews[\"normalized_review\"] == \"\"])\n",
        "\n",
        "\n",
        "# Removing rows\n",
        "df_normalized_reviews = df_normalized_reviews[df_normalized_reviews[\"normalized_review\"].str.strip() != \"\"]\n",
        "number_of_empty_revs_after_removing =  (df_normalized_reviews[\"normalized_review\"] == \"\").sum()\n",
        "print(\"NUMBER OF ROWS WITHOUT ANYTHING AFTER removing:\",number_of_empty_revs_after_removing)\n",
        "\n",
        "\n",
        "\n",
        "#  some testing not needed at the end\n",
        "\n",
        "\n",
        "# def contains_english(text):\n",
        "#     return bool(re.search(r'[a-zA-Z]', text))\n",
        "\n",
        "# Check for English in the normalized reviews\n",
        "# df_copy[\"has_english\"] = df_normalized_reviews[\"normalized_review\"].apply(contains_english)\n",
        "\n",
        "# # Count the number of reviews containing English\n",
        "# num_reviews_with_english = df_normalized_reviews[\"has_english\"].sum()\n",
        "# print(f\"\\n Num of reviews containing English AFTER normalization: {num_reviews_with_english}\")\n",
        "\n",
        "# # Print some samples\n",
        "# print(\"\\n Sample of reviews still containing English (First 10)\")\n",
        "# print(df_normalized_reviews[df_normalized_reviews[\"has_english\"]][\"normalized_review\"].head(10))\n",
        "\n",
        "# # Remove the temporary column after testing\n",
        "# df_normalized_reviews.drop(columns=[\"has_english\"], inplace=True)\n",
        "\n",
        "print(df_normalized_reviews.info())\n",
        "\n",
        "\n",
        "\n",
        "# print(df_normalized_reviews.describe())\n",
        "#the df df_normalized_reviews now has the original dataset,\n",
        "\n",
        "# # Function to check if text still contains emojis\n",
        "# def contains_emoji(text):\n",
        "#     return any(char in emoji.EMOJI_DATA for char in text)\n",
        "\n",
        "# #Check for emojis in the normalized reviews\n",
        "# df[\"has_emoji\"] = df[\"normalized_review\"].apply(contains_emoji)\n",
        "\n",
        "# #num of reviews with emojis\n",
        "# num_reviews_with_emojis = df[\"has_emoji\"].sum()\n",
        "# print(f\"\\n Num of reviews containing emojis AFTER normalization: {num_reviews_with_emojis}\")\n",
        "\n",
        "\n",
        "# #sample of emoji conversions\n",
        "# print(\"\\n sample of Emoji Conversions (First 10)\")\n",
        "# for original, converted in list(emoji_conversion_log.items())[:10]:\n",
        "#     print(f\"{original} → {converted}\")\n",
        "\n",
        "# print(\"After camel tools and manual normalization\")\n",
        "# print(df['normalized_review'].head(20))\n",
        "# print(\"----------------------------\")\n",
        "# print()"
      ],
      "metadata": {
        "id": "YdifI7cLRlYG",
        "colab": {
          "base_uri": "https://localhost:8080/"
        },
        "outputId": "4b941cb0-5ca5-4a3b-9bfc-1d13bf8a5e9a"
      },
      "execution_count": 8,
      "outputs": [
        {
          "output_type": "stream",
          "name": "stdout",
          "text": [
            "\n",
            "Before camel tools and manual normalization\n",
            "0                                                                                                                                                                                    “ممتاز”. النظافة والطاقم متعاون. \n",
            "1                                                                                                                                                                   استثنائي. سهولة إنهاء المعاملة في الاستقبال. لاشيئ\n",
            "2                                                                                                                                                  استثنائي. انصح بأختيار الاسويت و بالاخص غرفه رقم 801. نوعية الارضيه\n",
            "3                                                                                                                                                                “استغرب تقييم الفندق كخمس نجوم”. لا شي. يستحق 2 نجمه \n",
            "4                                                                                              جيد. المكان جميل وهاديء. كل شي جيد ونظيف بس كان حوض السباحه لايعمل في هذي الفتره حسب كلامهم يقولوا فيه صيانه والله اعلم\n",
            "5     ممتاز. موقع الفندق ونظافته والاطلاله على البحر وجزيرة  النور التي تحتوي على الفراشات وكذلك قربه من المسجد والممشى  توفر المواقف بجانب الفندق وخدمة صف السيارات. المسبح كان مغلق للصيانه  المواقف تحتاج الى مظلات\n",
            "6                                                                                                                                    “جيدجداً”. الافطار جيد والسرير ممتاز ومريح واطلالة الغرفة رائعه. فرش ارضية الغرفه\n",
            "7                                                                                                                                                                                      “فندق ممتاز”. الاثاث، النظافه. \n",
            "8                                                                                                                       “الراحة و الهدوء”. مكان مناسب ومريح  انصح به خاصة لموقعه على الكورنيش وخدماته الممتازة. لا شيء\n",
            "9                                                                                                                     استثنائي. المكان روعه تحديدا الغرف المطله على واحة النخيل (الكورنيش). مخداتهم ما ذاك الزووود !.!\n",
            "10                                                                                                                                          “إقامتي في فندق 72 الشارقة”. موقع الفندق ممتاز السعر مقابل الخدمات ممتاز. \n",
            "11                                                                                                                                                                                “فندق الراحه”. قربه من الاسواق. لاشي\n",
            "12                                                                                                                            “أسرة اماراتية.”. فندق مبنى على الطراز الحديث، وكل الديكورات والاثاث مميز وراقي.. لا شئ.\n",
            "13                                                رائع. نعم. عدم تحديد الغرف مطلة على البحيرة ام لا . حيث انني قمت بحجز غرفتين وحسب صور الغرف انها مطلة على البحيرة .وعند وصولي للفندق اخبروني بان احدى الغرف غير مطله\n",
            "14                                                                                                                                                                                                   “مريح”. الهدوء. -\n",
            "15                                                                                                                                                                                         ممتاز. . الواي فاي ضعيف جدا\n",
            "16                                                                                                                                                                                     “جيد”. كل شي جميل. حجم الغرفة و\n",
            "17                                                       “موظف المسبح سيء جدا”. . موظف المسبح سيء جدامعظم الوقت المسبح للصيانهالفندق ليس خمس نجوم كما يدعونالفندق لا يستحق هذا المبلغهناك فنادق افضل منه وبسعر اقل جدا\n",
            "18                                                                                                                                                                                    “اقامة ممتعة”. . الموقع والنظافة\n",
            "19                                                                                                                                                             رائع. . وجود ازعاج في بناية تحت الانشاء بجانب الفندق ..\n",
            "Name: review, dtype: object\n",
            "----------------------------\n",
            "\n",
            "   rating                                                                                                                   review                                                                                                      normalized_review\n",
            "0       2                                                                                        “ممتاز”. النظافة والطاقم متعاون.                                                                                            ممتاز النظافه والطاقم متعاون\n",
            "1       5                                                                       استثنائي. سهولة إنهاء المعاملة في الاستقبال. لاشيئ                                                                       استثنائي سهوله انهاء المعامله في الاستقبال لاشيئ\n",
            "2       5                                                      استثنائي. انصح بأختيار الاسويت و بالاخص غرفه رقم 801. نوعية الارضيه                                                          استثنائي انصح باختيار الاسويت و بالاخص غرفه رقم نوعيه الارضيه\n",
            "3       1                                                                    “استغرب تقييم الفندق كخمس نجوم”. لا شي. يستحق 2 نجمه                                                                          استغرب تقييم الفندق كخمس نجوم لا شي يستحق نجمه\n",
            "4       4  جيد. المكان جميل وهاديء. كل شي جيد ونظيف بس كان حوض السباحه لايعمل في هذي الفتره حسب كلامهم يقولوا فيه صيانه والله اعلم  جيد المكان جميل وهاديء كل شي جيد ونظيف بس كان حوض السباحه لايعمل في هذي الفتره حسب كلامهم يقولوا فيه صيانه والله اعلم\n",
            "NUMBER OF ROWS WITHOUT ANYTHING AFTER NORMALIZATION: 12\n",
            "        rating                              review normalized_review\n",
            "7835         5                    “...”. .... ....                  \n",
            "8825         2  “....”. ............ .............                  \n",
            "15962        1              “,,,,,,,,,,”. . ,,,,,,                  \n",
            "28300        5                            “١”. . 2                  \n",
            "49214        5                  “.....”. .... ....                  \n",
            "51191        2                               “. .                   \n",
            "53202        1                           “!”. !. !                  \n",
            "80047        5                             “3 . .                   \n",
            "84170        2                               “. .                   \n",
            "91560        1                           “*”. *. *                  \n",
            "94119        5                              “9. .                   \n",
            "102628       4                           “-”. -. -                  \n",
            "NUMBER OF ROWS WITHOUT ANYTHING AFTER removing: 0\n",
            "<class 'pandas.core.frame.DataFrame'>\n",
            "Index: 102962 entries, 0 to 105697\n",
            "Data columns (total 3 columns):\n",
            " #   Column             Non-Null Count   Dtype \n",
            "---  ------             --------------   ----- \n",
            " 0   rating             102962 non-null  int64 \n",
            " 1   review             102962 non-null  object\n",
            " 2   normalized_review  102962 non-null  object\n",
            "dtypes: int64(1), object(2)\n",
            "memory usage: 3.1+ MB\n",
            "None\n"
          ]
        }
      ]
    },
    {
      "cell_type": "code",
      "source": [
        "print(df_normalized_reviews[df_normalized_reviews[\"normalized_review\"] == \"\"])\n"
      ],
      "metadata": {
        "id": "z8fiahIq834S",
        "outputId": "6fe3318a-f093-4365-8019-a542cc7dfa7f",
        "colab": {
          "base_uri": "https://localhost:8080/"
        }
      },
      "execution_count": 9,
      "outputs": [
        {
          "output_type": "stream",
          "name": "stdout",
          "text": [
            "Empty DataFrame\n",
            "Columns: [rating, review, normalized_review]\n",
            "Index: []\n"
          ]
        }
      ]
    },
    {
      "cell_type": "code",
      "source": [
        "# a  quick check to see if english reviews that were removed make the dataset imbalanced\n",
        "pos = (df_normalized_reviews['rating'] >= 4).sum()\n",
        "neg = (df_normalized_reviews['rating'] < 4).sum()\n",
        "\n",
        "print(\"Positive reviews:\", pos)\n",
        "print(\"Negative reviews:\", neg)\n",
        "\n",
        "#dataset appears to still be balanced :) just 120 reviewss diff"
      ],
      "metadata": {
        "id": "48Me0riUyLy3",
        "outputId": "d130b040-fa49-4a65-ffce-5e2d6e887ce2",
        "colab": {
          "base_uri": "https://localhost:8080/"
        }
      },
      "execution_count": 10,
      "outputs": [
        {
          "output_type": "stream",
          "name": "stdout",
          "text": [
            "Positive reviews: 51541\n",
            "Negative reviews: 51421\n"
          ]
        }
      ]
    },
    {
      "cell_type": "markdown",
      "source": [
        "## After normalizing text we do Tokenization"
      ],
      "metadata": {
        "id": "PhqlHNYuuEDz"
      }
    },
    {
      "cell_type": "code",
      "source": [
        "from camel_tools.tokenizers.word import simple_word_tokenize\n",
        "\n",
        "# Tokenize the normalized reviews in the new col named tokens\n",
        "df_normalized_reviews['tokens'] = df_normalized_reviews['normalized_review'].apply(lambda x: simple_word_tokenize(x)) #takes a bit of time but works good, cant find its stemmer though cant find it in docs so no stemmer?\n",
        "\n",
        "# verify tokenization\n",
        "print(df_normalized_reviews[['normalized_review', 'tokens']].head(20))\n",
        "\n",
        "\n",
        "print(df_normalized_reviews.describe())"
      ],
      "metadata": {
        "id": "wf3IlhHbuTim",
        "colab": {
          "base_uri": "https://localhost:8080/"
        },
        "outputId": "a0f67ef2-d15e-4645-c2a5-44f9fea190a9"
      },
      "execution_count": 11,
      "outputs": [
        {
          "output_type": "stream",
          "name": "stdout",
          "text": [
            "                                                                                                                                                                                              normalized_review                                                                                                                                                                                                                                         tokens\n",
            "0                                                                                                                                                                                  ممتاز النظافه والطاقم متعاون                                                                                                                                                                                                              [ممتاز, النظافه, والطاقم, متعاون]\n",
            "1                                                                                                                                                              استثنائي سهوله انهاء المعامله في الاستقبال لاشيئ                                                                                                                                                                                       [استثنائي, سهوله, انهاء, المعامله, في, الاستقبال, لاشيئ]\n",
            "2                                                                                                                                                 استثنائي انصح باختيار الاسويت و بالاخص غرفه رقم نوعيه الارضيه                                                                                                                                                                       [استثنائي, انصح, باختيار, الاسويت, و, بالاخص, غرفه, رقم, نوعيه, الارضيه]\n",
            "3                                                                                                                                                                استغرب تقييم الفندق كخمس نجوم لا شي يستحق نجمه                                                                                                                                                                                       [استغرب, تقييم, الفندق, كخمس, نجوم, لا, شي, يستحق, نجمه]\n",
            "4                                                                                         جيد المكان جميل وهاديء كل شي جيد ونظيف بس كان حوض السباحه لايعمل في هذي الفتره حسب كلامهم يقولوا فيه صيانه والله اعلم                                                                                                  [جيد, المكان, جميل, وهاديء, كل, شي, جيد, ونظيف, بس, كان, حوض, السباحه, لايعمل, في, هذي, الفتره, حسب, كلامهم, يقولوا, فيه, صيانه, والله, اعلم]\n",
            "5   ممتاز موقع الفندق ونظافته والاطلاله علي البحر وجزيره النور التي تحتوي علي الفراشات وكذلك قربه من المسجد والممشي توفر المواقف بجانب الفندق وخدمه صف السيارات المسبح كان مغلق للصيانه المواقف تحتاج الي مظلات  [ممتاز, موقع, الفندق, ونظافته, والاطلاله, علي, البحر, وجزيره, النور, التي, تحتوي, علي, الفراشات, وكذلك, قربه, من, المسجد, والممشي, توفر, المواقف, بجانب, الفندق, وخدمه, صف, السيارات, المسبح, كان, مغلق, للصيانه, المواقف, تحتاج, الي, مظلات]\n",
            "6                                                                                                                                  جيدجدا الافطار جيد والسرير ممتاز ومريح واطلاله الغرفه رائعه فرش ارضيه الغرفه                                                                                                                                                      [جيدجدا, الافطار, جيد, والسرير, ممتاز, ومريح, واطلاله, الغرفه, رائعه, فرش, ارضيه, الغرفه]\n",
            "7                                                                                                                                                                                     فندق ممتاز الاثاث النظافه                                                                                                                                                                                                                 [فندق, ممتاز, الاثاث, النظافه]\n",
            "8                                                                                                                     الراحه و الهدوء مكان مناسب ومريح انصح به خاصه لموقعه علي الكورنيش وخدماته الممتازه لا شيء                                                                                                                                     [الراحه, و, الهدوء, مكان, مناسب, ومريح, انصح, به, خاصه, لموقعه, علي, الكورنيش, وخدماته, الممتازه, لا, شيء]\n",
            "9                                                                                                                        استثنائي المكان روعه تحديدا الغرف المطله علي واحه النخيل الكورنيش مخداتهم ما ذاك الزود                                                                                                                                          [استثنائي, المكان, روعه, تحديدا, الغرف, المطله, علي, واحه, النخيل, الكورنيش, مخداتهم, ما, ذاك, الزود]\n",
            "10                                                                                                                                           اقامتي في فندق الشارقه موقع الفندق ممتاز السعر مقابل الخدمات ممتاز                                                                                                                                                                 [اقامتي, في, فندق, الشارقه, موقع, الفندق, ممتاز, السعر, مقابل, الخدمات, ممتاز]\n",
            "11                                                                                                                                                                             فندق الراحه قربه من الاسواق لاشي                                                                                                                                                                                                        [فندق, الراحه, قربه, من, الاسواق, لاشي]\n",
            "12                                                                                                                             اسره اماراتيه فندق مبني علي الطراز الحديث وكل الديكورات والاثاث مميز وراقي لا شئ                                                                                                                                                [اسره, اماراتيه, فندق, مبني, علي, الطراز, الحديث, وكل, الديكورات, والاثاث, مميز, وراقي, لا, شئ]\n",
            "13                                              رائع نعم عدم تحديد الغرف مطله علي البحيره ام لا حيث انني قمت بحجز غرفتين وحسب صور الغرف انها مطله علي البحيره وعند وصولي للفندق اخبروني بان احدي الغرف غير مطله                                                [رائع, نعم, عدم, تحديد, الغرف, مطله, علي, البحيره, ام, لا, حيث, انني, قمت, بحجز, غرفتين, وحسب, صور, الغرف, انها, مطله, علي, البحيره, وعند, وصولي, للفندق, اخبروني, بان, احدي, الغرف, غير, مطله]\n",
            "14                                                                                                                                                                                                  مريح الهدوء                                                                                                                                                                                                                                 [مريح, الهدوء]\n",
            "15                                                                                                                                                                                     ممتاز الواي فاي ضعيف جدا                                                                                                                                                                                                                 [ممتاز, الواي, فاي, ضعيف, جدا]\n",
            "16                                                                                                                                                                                  جيد كل شي جميل حجم الغرفه و                                                                                                                                                                                                            [جيد, كل, شي, جميل, حجم, الغرفه, و]\n",
            "17                                                     موظف المسبح سيء جدا موظف المسبح سيء جدامعظم الوقت المسبح للصيانهالفندق ليس خمس نجوم كما يدعونالفندق لا يستحق هذا المبلغهناك فنادق افضل منه وبسعر اقل جدا                                                            [موظف, المسبح, سيء, جدا, موظف, المسبح, سيء, جدامعظم, الوقت, المسبح, للصيانهالفندق, ليس, خمس, نجوم, كما, يدعونالفندق, لا, يستحق, هذا, المبلغهناك, فنادق, افضل, منه, وبسعر, اقل, جدا]\n",
            "18                                                                                                                                                                                  اقامه ممتعه الموقع والنظافه                                                                                                                                                                                                               [اقامه, ممتعه, الموقع, والنظافه]\n",
            "19                                                                                                                                                            رائع وجود ازعاج في بنايه تحت الانشاء بجانب الفندق                                                                                                                                                                                    [رائع, وجود, ازعاج, في, بنايه, تحت, الانشاء, بجانب, الفندق]\n",
            "              rating\n",
            "count  102962.000000\n",
            "mean        3.115460\n",
            "std         1.464124\n",
            "min         1.000000\n",
            "25%         2.000000\n",
            "50%         4.000000\n",
            "75%         4.000000\n",
            "max         5.000000\n"
          ]
        }
      ]
    },
    {
      "cell_type": "markdown",
      "source": [
        "## **We then remove stop words**"
      ],
      "metadata": {
        "id": "gJK99giKx9HH"
      }
    },
    {
      "cell_type": "code",
      "source": [
        "# Mounting Google Drive tany for stopwords file\n",
        "from google.colab import drive\n",
        "drive.mount('/content/drive')\n",
        "\n",
        "import pandas as pd\n",
        "import nltk\n",
        "from nltk.corpus import stopwords\n",
        "from collections import Counter\n",
        "\n",
        "# #eng stop wrods\n",
        "# nltk.download(\"stopwords\")\n",
        "\n",
        "# nltk_stopwords = set(stopwords.words(\"english\"))\n",
        "\n",
        "# loading the arabic stopwords customized list\n",
        "stopwords_file_path = \"/content/drive/MyDrive/thesisdata/updated_stopwords.txt\"\n",
        "custom_stopwords = set(pd.read_csv(stopwords_file_path, header=None, encoding=\"utf-8\")[0].tolist())\n",
        "\n",
        "# # combing both stopwords lists\n",
        "# all_stopwords = nltk_stopwords.union(custom_stopwords)\n",
        "\n",
        "#will no longer consider english so no need to remove english stopwords as i removed all reveiws containing english during normalization\n",
        "\n",
        "# applying stopwords removal from normalized tezxt\n",
        "df_normalized_reviews[\"filtered_tokens\"] = df_normalized_reviews[\"tokens\"].apply(lambda tokens: [word for word in tokens if word.lower() not in custom_stopwords])\n",
        "\n",
        "#Counting removed stopwords\n",
        "removed_words = []\n",
        "for original, filtered in zip(df_normalized_reviews[\"tokens\"], df_normalized_reviews[\"filtered_tokens\"]):\n",
        "    removed_words.extend([word for word in original if word.lower() in custom_stopwords])\n",
        "\n",
        "removed_counts = Counter(removed_words)\n",
        "\n",
        "#showing top 200 most removed words\n",
        "print(\"Most removed stopwords:\", removed_counts.most_common(200))\n",
        "\n",
        "\n",
        "\n",
        "#most frequent words after stopword removal\n",
        "remaining_words = []\n",
        "for filtered in df_normalized_reviews[\"filtered_tokens\"]:\n",
        "    remaining_words.extend(filtered)\n",
        "\n",
        "remaining_counts = Counter(remaining_words)\n",
        "\n",
        "# top 200 words after stopwords removal\n",
        "print(\"\\n Most frequent words after stopwords removal:\")\n",
        "print(remaining_counts.most_common(400))\n",
        "\n",
        "\n",
        "#sample res\n",
        "print(\"Tokens before filtering stopwords:\\n\", df_normalized_reviews[\"tokens\"].head(10))\n",
        "print(\"\\nTokens after filtering stopwords:\\n\", df_normalized_reviews[\"filtered_tokens\"].head(10))\n",
        "\n",
        "print(df_normalized_reviews.info()) # hjust to make sure im using the correct stuff\n"
      ],
      "metadata": {
        "id": "nKAR-0DEyDyv",
        "colab": {
          "base_uri": "https://localhost:8080/"
        },
        "outputId": "331415e3-7950-49ad-81d9-99c3e71221e8"
      },
      "execution_count": 12,
      "outputs": [
        {
          "output_type": "stream",
          "name": "stdout",
          "text": [
            "Drive already mounted at /content/drive; to attempt to forcibly remount, call drive.mount(\"/content/drive\", force_remount=True).\n",
            "Most removed stopwords: [('من', 49109), ('في', 47550), ('علي', 17110), ('فيه', 10806), ('ان', 10185), ('الي', 10038), ('عن', 8312), ('به', 5189), ('او', 4789), ('عند', 4613), ('اي', 4222), ('بعد', 4175), ('حيث', 3811), ('تم', 3542), ('انه', 3454), ('بشكل', 3158), ('قبل', 2989), ('بعض', 2922), ('جميع', 2872), ('فيها', 2776), ('التي', 2153), ('احد', 2062), ('بسبب', 1914), ('بها', 1755), ('الذي', 1666), ('اذا', 1519), ('عام', 1517), ('عليه', 1445), ('ايضا', 1281), ('درهم', 1272), ('خمس', 1232), ('بين', 1232), ('اول', 1229), ('ع', 1155), ('بان', 1064), ('اليوم', 1024), ('ب', 974), ('تكون', 954), ('ايام', 875), ('بهذا', 859), ('ف', 839), ('انها', 835), ('ثلاث', 835), ('الوقت', 789), ('امام', 753), ('تحت', 729), ('عندما', 711), ('خارج', 688), ('خلال', 683), ('عدد', 652), ('عليك', 636), ('فوق', 635), ('اليه', 623), ('بل', 620), ('عليها', 616), ('اما', 614), ('الثاني', 557), ('صباحا', 550), ('قال', 550), ('سوف', 529), ('ثم', 513), ('حسب', 503), ('الان', 488), ('الاول', 462), ('ثاني', 424), ('حول', 419), ('صفر', 391), ('عدا', 357), ('انت', 300), ('فهو', 295), ('عنه', 289), ('قام', 289), ('شبه', 279), ('فقد', 245), ('عشر', 226), ('خلف', 209), ('حين', 208), ('السابق', 206), ('ضمن', 204), ('اجل', 186), ('الذين', 179), ('ا', 160), ('اصبح', 156), ('صار', 137), ('الف', 136), ('باسم', 132), ('فهي', 124), ('عنها', 122), ('اثنين', 114), ('تلك', 112), ('بينما', 107), ('بد', 96), ('حاليا', 95), ('بعيدا', 90), ('صباح', 89), ('بدلا', 87), ('ـ', 85), ('علم', 81), ('بن', 80), ('فكان', 70), ('ثالث', 70), ('الحالي', 69), ('ترك', 68), ('اليها', 67), ('عل', 66), ('جعل', 66), ('ص', 66), ('فان', 63), ('الماضي', 59), ('حقا', 58), ('اثر', 49), ('غدا', 47), ('حبذا', 45), ('فما', 41), ('عشرين', 40), ('فضلا', 39), ('د', 32), ('على', 31), ('اثنان', 31), ('فعل', 30), ('شمال', 26), ('عين', 26), ('ء', 26), ('عاد', 26), ('فانه', 25), ('ظل', 25), ('تجاه', 24), ('اكد', 23), ('بيد', 23), ('ضد', 20), ('طالما', 19), ('امس', 19), ('تسع', 18), ('ت', 18), ('دولار', 17), ('جيم', 16), ('خمسين', 15), ('بضع', 15), ('اثنا', 15), ('بئس', 14), ('اللذين', 14), ('خامس', 13), ('شين', 13), ('حبيب', 12), ('اربعين', 11), ('عشرون', 11), ('اف', 11), ('صدقا', 11), ('ج', 10), ('خميس', 10), ('ق', 9), ('ط', 9), ('ظ', 8), ('ثمان', 8), ('خمسون', 7), ('صبر', 7), ('الذاتي', 7), ('ش', 7), ('فلس', 6), ('غادر', 6), ('ح', 5), ('تلقاء', 5), ('ثلاثين', 5), ('خ', 5), ('علق', 5), ('عاما', 5), ('غ', 5), ('شيكل', 5), ('ثلاثون', 5), ('فلان', 5), ('خلافا', 5), ('قلما', 4), ('شخصا', 4), ('فو', 3), ('اطار', 3), ('عوض', 3), ('حاي', 3), ('خلا', 3), ('خال', 3), ('بات', 2), ('طاق', 2), ('ث', 2), ('اتخذ', 2), ('بعدا', 2), ('اثني', 2), ('قرش', 2), ('سين', 2), ('فبراير', 2), ('اللواتي', 1), ('دال', 1), ('صاد', 1), ('اللتين', 1), ('ثمانين', 1), ('ض', 1), ('عجبا', 1), ('ثماني', 1), ('اللتان', 1), ('صبرا', 1), ('تسعون', 1), ('فاء', 1)]\n",
            "\n",
            " Most frequent words after stopwords removal:\n",
            "[('جدا', 48991), ('الفندق', 37574), ('لا', 30116), ('و', 20959), ('غير', 18468), ('جيد', 18300), ('الاستقبال', 17605), ('شي', 17390), ('كل', 16991), ('الغرفه', 16441), ('الغرف', 14869), ('ممتاز', 14728), ('ضعيف', 14508), ('فندق', 13782), ('لم', 13328), ('الموقع', 13280), ('يوجد', 11916), ('النظافه', 11537), ('رائع', 9707), ('سيئه', 9699), ('مخيب', 9604), ('للامل', 9438), ('ولا', 9313), ('عدم', 8950), ('مع', 8651), ('كان', 8560), ('فقط', 8353), ('الحرم', 7440), ('استثنائي', 7230), ('ما', 7219), ('جميل', 7131), ('وجود', 7059), ('سيء', 6805), ('شيء', 6737), ('خدمه', 6595), ('الافطار', 6530), ('لايوجد', 5950), ('انصح', 5634), ('المكان', 5626), ('موقع', 5614), ('طاقم', 5374), ('الخدمات', 5372), ('مواقف', 5301), ('السعر', 5121), ('نظافه', 5060), ('فاي', 4971), ('هذا', 4855), ('الخدمه', 4736), ('غرفه', 4663), ('قديم', 4537), ('قريب', 4526), ('يعجبني', 4480), ('العمل', 4404), ('نجوم', 4369), ('سيئ', 4361), ('مره', 4344), ('المياه', 4299), ('اكثر', 4264), ('كانت', 4180), ('الحمام', 4137), ('السرير', 4039), ('الموظفين', 3942), ('الا', 3929), ('تعامل', 3902), ('اعجبني', 3777), ('حتي', 3735), ('مكان', 3691), ('الساعه', 3686), ('مريح', 3673), ('رائحه', 3670), ('جيده', 3667), ('ولم', 3655), ('نظيف', 3631), ('الدخول', 3584), ('الحجز', 3561), ('الاثاث', 3477), ('موظف', 3443), ('السيارات', 3325), ('ممتازه', 3302), ('ازعاج', 3207), ('الواي', 3173), ('المواقف', 3119), ('ولكن', 3110), ('الله', 3083), ('اقامه', 3058), ('التعامل', 3047), ('لي', 3038), ('خدمات', 2935), ('يتم', 2918), ('والنظافه', 2846), ('ليس', 2839), ('ابدا', 2838), ('المطعم', 2765), ('مقابل', 2720), ('لاشي', 2702), ('مناسب', 2686), ('يستحق', 2642), ('مستوي', 2639), ('شئ', 2628), ('وعدم', 2618), ('قربه', 2611), ('سئ', 2559), ('تجربه', 2537), ('صغيره', 2505), ('لكن', 2479), ('بالفندق', 2430), ('الهدوء', 2409), ('وقت', 2401), ('مبالغ', 2384), ('وغير', 2375), ('افضل', 2313), ('الانترنت', 2312), ('ساعه', 2305), ('توفر', 2304), ('نظيفه', 2280), ('للاسف', 2271), ('الشقه', 2255), ('للفندق', 2245), ('داخل', 2230), ('الاقامه', 2225), ('الفطور', 2201), ('دبي', 2125), ('للغايه', 2102), ('هناك', 2084), ('مول', 2070), ('بعيد', 2063), ('موظفي', 2061), ('يكون', 2049), ('اخري', 2047), ('لن', 2009), ('رائعه', 2005), ('المبلغ', 1968), ('الفنادق', 1929), ('مريحه', 1921), ('واحد', 1904), ('الراحه', 1881), ('بدون', 1872), ('جميله', 1864), ('يوم', 1860), ('صغير', 1849), ('ضيقه', 1849), ('توجد', 1834), ('الوصول', 1822), ('الخروج', 1818), ('غرف', 1812), ('سعر', 1811), ('اللي', 1807), ('كريهه', 1801), ('النوم', 1790), ('مما', 1778), ('اني', 1774), ('غالي', 1766), ('يحتاج', 1757), ('نوعا', 1755), ('ريال', 1733), ('طلبت', 1729), ('النت', 1704), ('النزلاء', 1685), ('العاملين', 1684), ('السكن', 1675), ('انا', 1675), ('المسبح', 1668), ('يكن', 1650), ('موظفين', 1649), ('ذلك', 1642), ('اخر', 1639), ('الطاقم', 1631), ('بس', 1630), ('له', 1628), ('المستوي', 1585), ('مثل', 1571), ('تنظيف', 1569), ('ليست', 1560), ('بالنسبه', 1556), ('دوره', 1554), ('القرب', 1550), ('خاصه', 1549), ('موقعه', 1543), ('كما', 1536), ('سرير', 1515), ('استقبال', 1515), ('الازعاج', 1506), ('طريق', 1490), ('هو', 1480), ('الماء', 1470), ('حسن', 1455), ('دون', 1455), ('مبلغ', 1449), ('وكذلك', 1446), ('دورات', 1436), ('اقل', 1435), ('والخدمات', 1427), ('مجاني', 1410), ('راقي', 1407), ('والخدمه', 1407), ('الشقق', 1403), ('التكييف', 1392), ('ضعيفه', 1389), ('للحرم', 1384), ('راحه', 1381), ('مميز', 1380), ('للعوائل', 1376), ('وتم', 1363), ('الموظف', 1353), ('السياره', 1337), ('البحر', 1325), ('لو', 1316), ('رحله', 1311), ('طلب', 1309), ('الاكل', 1307), ('وهذا', 1307), ('قرب', 1294), ('بصراحه', 1284), ('رغم', 1277), ('ضيق', 1274), ('القيمه', 1271), ('حجزت', 1270), ('منه', 1269), ('متعاون', 1267), ('والموقع', 1262), ('بوفيه', 1256), ('لان', 1253), ('نفس', 1253), ('وعند', 1249), ('لاشيء', 1249), ('صوت', 1243), ('مقبول', 1236), ('وطاقم', 1231), ('تسجيل', 1228), ('كنت', 1210), ('مقارنه', 1207), ('بكل', 1199), ('واي', 1198), ('اسوا', 1196), ('كبير', 1190), ('قمه', 1188), ('قديمه', 1182), ('سوء', 1181), ('اسوء', 1170), ('سي', 1169), ('وخدمه', 1166), ('واسعه', 1164), ('الطعام', 1162), ('موقف', 1161), ('المصاعد', 1160), ('البوفيه', 1149), ('ماء', 1147), ('والاثاث', 1144), ('تكن', 1136), ('عادي', 1135), ('فنادق', 1131), ('روعه', 1125), ('يعني', 1122), ('شكرا', 1118), ('مساحه', 1114), ('وليس', 1114), ('وكان', 1114), ('سرعه', 1113), ('الاهتمام', 1112), ('واحده', 1110), ('وقريب', 1106), ('وخاصه', 1103), ('ونظافه', 1101), ('عمل', 1100), ('هذه', 1095), ('والهدوء', 1089), ('الحمامات', 1086), ('متوفره', 1084), ('مرتفع', 1080), ('اداره', 1067), ('باب', 1061), ('الاخ', 1060), ('والغرف', 1057), ('جديد', 1044), ('الاسعار', 1042), ('تغيير', 1042), ('والاستقبال', 1036), ('بالغرفه', 1026), ('تحتاج', 1025), ('عمال', 1020), ('مزعج', 1019), ('مطعم', 1019), ('يجب', 1019), ('اللوبي', 1019), ('سيارات', 1015), ('الباب', 1004), ('حجز', 1002), ('للسيارات', 993), ('الممرات', 993), ('توفير', 989), ('للغرفه', 986), ('المطاعم', 985), ('شيئ', 978), ('ونظيف', 962), ('صيانه', 961), ('شقق', 953), ('مجانا', 951), ('والخروج', 950), ('لانه', 949), ('اسعار', 947), ('كذلك', 946), ('الصور', 945), ('العلم', 945), ('افطار', 940), ('لهم', 939), ('وفي', 938), ('النزيل', 936), ('خصوصا', 930), ('اسكن', 930), ('كبيره', 930), ('وتعامل', 923), ('يعمل', 920), ('الاسره', 918), ('اتمني', 916), ('حجزي', 914), ('المجاوره', 911), ('قيمه', 909), ('لاشئ', 909), ('حجم', 908), ('المطبخ', 907), ('وانا', 901), ('والسعر', 901), ('اطلاله', 900), ('لك', 899), ('شخص', 898), ('الاتصال', 892), ('وكل', 887), ('كثير', 886), ('الاطلاله', 871), ('الامارات', 870), ('سكنت', 869), ('وايضا', 867), ('تقريبا', 865), ('المدينه', 859), ('مزعجه', 857), ('لنا', 853), ('حلو', 853), ('الجناح', 843), ('تاخير', 841), ('الفرش', 841), ('متنوع', 840), ('مافيه', 836), ('ممتعه', 835), ('دخول', 831), ('المسجد', 830), ('يصلح', 830), ('مدخل', 822), ('اجراءات', 821), ('منهم', 820), ('الليل', 816), ('هدوء', 815), ('مشكله', 814), ('السباحه', 812), ('كافيه', 812), ('اثاث', 810), ('ناحيه', 806), ('وبعد', 802), ('الشارع', 801), ('معامله', 800), ('والفندق', 799), ('وجبه', 799), ('اصوات', 797), ('مافي', 792), ('والله', 790), ('قريبه', 790), ('لديهم', 789), ('سعره', 786), ('المكيف', 785), ('اثناء', 784), ('الاطفال', 783), ('نجمه', 779), ('ومريح', 775), ('الدور', 775), ('زحمه', 774), ('ولايوجد', 773), ('الزياره', 769), ('للغرف', 767), ('المطلوب', 766), ('والغرفه', 764), ('اهتمام', 757), ('يمكن', 755), ('الاداره', 752), ('عاليه', 752), ('والراحه', 749), ('مطله', 748), ('بالاضافه', 748), ('مطاعم', 748), ('النبوي', 747), ('بالسكن', 746), ('التنظيف', 745), ('فاشل', 745), ('حشرات', 744), ('وحسن', 737), ('مدير', 734), ('وهو', 733), ('ادوات', 729), ('التاخير', 725), ('ساعات', 725), ('عالي', 723), ('وقربه', 723)]\n",
            "Tokens before filtering stopwords:\n",
            " 0                                                                                                                                                                                                                [ممتاز, النظافه, والطاقم, متعاون]\n",
            "1                                                                                                                                                                                         [استثنائي, سهوله, انهاء, المعامله, في, الاستقبال, لاشيئ]\n",
            "2                                                                                                                                                                         [استثنائي, انصح, باختيار, الاسويت, و, بالاخص, غرفه, رقم, نوعيه, الارضيه]\n",
            "3                                                                                                                                                                                         [استغرب, تقييم, الفندق, كخمس, نجوم, لا, شي, يستحق, نجمه]\n",
            "4                                                                                                    [جيد, المكان, جميل, وهاديء, كل, شي, جيد, ونظيف, بس, كان, حوض, السباحه, لايعمل, في, هذي, الفتره, حسب, كلامهم, يقولوا, فيه, صيانه, والله, اعلم]\n",
            "5    [ممتاز, موقع, الفندق, ونظافته, والاطلاله, علي, البحر, وجزيره, النور, التي, تحتوي, علي, الفراشات, وكذلك, قربه, من, المسجد, والممشي, توفر, المواقف, بجانب, الفندق, وخدمه, صف, السيارات, المسبح, كان, مغلق, للصيانه, المواقف, تحتاج, الي, مظلات]\n",
            "6                                                                                                                                                        [جيدجدا, الافطار, جيد, والسرير, ممتاز, ومريح, واطلاله, الغرفه, رائعه, فرش, ارضيه, الغرفه]\n",
            "7                                                                                                                                                                                                                   [فندق, ممتاز, الاثاث, النظافه]\n",
            "8                                                                                                                                       [الراحه, و, الهدوء, مكان, مناسب, ومريح, انصح, به, خاصه, لموقعه, علي, الكورنيش, وخدماته, الممتازه, لا, شيء]\n",
            "9                                                                                                                                            [استثنائي, المكان, روعه, تحديدا, الغرف, المطله, علي, واحه, النخيل, الكورنيش, مخداتهم, ما, ذاك, الزود]\n",
            "Name: tokens, dtype: object\n",
            "\n",
            "Tokens after filtering stopwords:\n",
            " 0                                                                                                                                                                                       [ممتاز, النظافه, والطاقم, متعاون]\n",
            "1                                                                                                                                                                    [استثنائي, سهوله, انهاء, المعامله, الاستقبال, لاشيئ]\n",
            "2                                                                                                                                                [استثنائي, انصح, باختيار, الاسويت, و, بالاخص, غرفه, رقم, نوعيه, الارضيه]\n",
            "3                                                                                                                                                                [استغرب, تقييم, الفندق, كخمس, نجوم, لا, شي, يستحق, نجمه]\n",
            "4                                                                                         [جيد, المكان, جميل, وهاديء, كل, شي, جيد, ونظيف, بس, كان, حوض, السباحه, لايعمل, هذي, الفتره, كلامهم, يقولوا, صيانه, والله, اعلم]\n",
            "5    [ممتاز, موقع, الفندق, ونظافته, والاطلاله, البحر, وجزيره, النور, تحتوي, الفراشات, وكذلك, قربه, المسجد, والممشي, توفر, المواقف, بجانب, الفندق, وخدمه, صف, السيارات, المسبح, كان, مغلق, للصيانه, المواقف, تحتاج, مظلات]\n",
            "6                                                                                                                               [جيدجدا, الافطار, جيد, والسرير, ممتاز, ومريح, واطلاله, الغرفه, رائعه, فرش, ارضيه, الغرفه]\n",
            "7                                                                                                                                                                                          [فندق, ممتاز, الاثاث, النظافه]\n",
            "8                                                                                                                       [الراحه, و, الهدوء, مكان, مناسب, ومريح, انصح, خاصه, لموقعه, الكورنيش, وخدماته, الممتازه, لا, شيء]\n",
            "9                                                                                                                        [استثنائي, المكان, روعه, تحديدا, الغرف, المطله, واحه, النخيل, الكورنيش, مخداتهم, ما, ذاك, الزود]\n",
            "Name: filtered_tokens, dtype: object\n",
            "<class 'pandas.core.frame.DataFrame'>\n",
            "Index: 102962 entries, 0 to 105697\n",
            "Data columns (total 5 columns):\n",
            " #   Column             Non-Null Count   Dtype \n",
            "---  ------             --------------   ----- \n",
            " 0   rating             102962 non-null  int64 \n",
            " 1   review             102962 non-null  object\n",
            " 2   normalized_review  102962 non-null  object\n",
            " 3   tokens             102962 non-null  object\n",
            " 4   filtered_tokens    102962 non-null  object\n",
            "dtypes: int64(1), object(4)\n",
            "memory usage: 4.7+ MB\n",
            "None\n"
          ]
        }
      ]
    },
    {
      "cell_type": "markdown",
      "source": [
        "##After tokenization and removing stop words we whould now have a cleaned dataset. we can now proceed with lemmatization/stemming to bring words back to their root form.\n",
        "\n",
        "#we try different tools:"
      ],
      "metadata": {
        "id": "c91rCfh4inHz"
      }
    },
    {
      "cell_type": "markdown",
      "source": [
        "#1-stranza by stanford: #GENERATED WITH GPT will revisit cause he made a mistake and this takes time to run"
      ],
      "metadata": {
        "id": "84TVLPHmKc6L"
      }
    },
    {
      "cell_type": "code",
      "source": [
        "# import stanza\n",
        "# import pandas as pd\n",
        "# from collections import Counter\n",
        "# from camel_tools.utils.dediac import dediac_ar\n",
        "\n",
        "# # ✅ Load Stanza Pipeline (Only Needed Once)\n",
        "# stanza.download(\"ar\")\n",
        "# nlp = stanza.Pipeline(\"ar\", processors=\"tokenize,lemma\")\n",
        "\n",
        "# # ✅ Function: Lemmatize with & without diacritics\n",
        "# def lemmatize_arabic(text):\n",
        "#     \"\"\"Returns both diacritized & non-diacritized lemmas\"\"\"\n",
        "#     try:\n",
        "#         doc = nlp(text)\n",
        "#         lemmas = [word.lemma for sent in doc.sentences for word in sent.words]\n",
        "#         return lemmas, [dediac_ar(lemma) for lemma in lemmas]  # Keep both forms\n",
        "#     except Exception as e:\n",
        "#         print(f\"⚠️ Stanza Lemmatization Failed: {e}\")\n",
        "#         return [], []\n",
        "\n",
        "# # ✅ Apply Lemmatization\n",
        "# df[\"stanza_lemmatized_diac\"], df[\"stanza_lemmatized_no_diac\"] = zip(*df[\"filtered_tokens\"].apply(\n",
        "#     lambda tokens: lemmatize_arabic(\" \".join(tokens))\n",
        "# ))\n",
        "\n",
        "# # ✅ Compute Evaluation Metrics\n",
        "# def evaluate_lemmatization(original_tokens, lemmatized_tokens):\n",
        "#     unique_original = set(original_tokens)\n",
        "#     unique_lemmas = set(lemmatized_tokens)\n",
        "\n",
        "#     if len(unique_original) == 0:\n",
        "#         return 0.0, 0.0\n",
        "\n",
        "#     changed_words = sum(1 for o, l in zip(original_tokens, lemmatized_tokens) if o != l)\n",
        "#     inconsistent_words = sum(1 for word, count in Counter(lemmatized_tokens).items() if count > 1)\n",
        "\n",
        "#     reduction_rate = ((len(unique_original) - len(unique_lemmas)) / len(unique_original)) * 100\n",
        "#     consistency_score = (inconsistent_words / len(original_tokens)) * 100 if original_tokens else 0.0\n",
        "\n",
        "#     return reduction_rate, consistency_score\n",
        "\n",
        "# # ✅ Apply Evaluation\n",
        "# df[\"reduction_rate\"], df[\"consistency_score\"] = zip(*df.apply(\n",
        "#     lambda row: evaluate_lemmatization(row[\"filtered_tokens\"], row[\"stanza_lemmatized_diac\"]), axis=1\n",
        "# ))\n",
        "\n",
        "# # ✅ Check if Lemmatization Expands Words\n",
        "# df[\"word_count_before\"] = df[\"filtered_tokens\"].apply(len)\n",
        "# df[\"word_count_after\"] = df[\"stanza_lemmatized_diac\"].apply(len)\n",
        "# df[\"word_count_change\"] = df[\"word_count_after\"] - df[\"word_count_before\"]\n",
        "\n",
        "# print(\"\\n🔍 Checking word count changes (should not increase):\")\n",
        "# print(df[[\"word_count_before\", \"word_count_after\", \"word_count_change\"]].head(10))\n",
        "\n",
        "# # ✅ Display Sample Before & After\n",
        "# print(\"\\n🔍 Sample Before & After Lemmatization:\")\n",
        "# for orig, lemmatized_diac, lemmatized_no_diac in zip(\n",
        "#     df[\"filtered_tokens\"].head(10),\n",
        "#     df[\"stanza_lemmatized_diac\"].head(10),\n",
        "#     df[\"stanza_lemmatized_no_diac\"].head(10)\n",
        "# ):\n",
        "#     print(f\"Original: {orig}\\nLemmatized (Diac): {lemmatized_diac}\\nLemmatized (No Diac): {lemmatized_no_diac}\\n\")\n",
        "\n",
        "# # Compute Lemmatization Accuracy (If you have a gold standard)\n",
        "# # if \"correct_lemmas\" in df.columns:\n",
        "# #     def compute_accuracy(lemmatized, correct):\n",
        "# #         matches = sum(1 for l, c in zip(lemmatized, correct) if l == c)\n",
        "# #         return (matches / len(correct)) * 100 if correct else 0\n",
        "\n",
        "# #     df[\"lemma_accuracy\"] = df.apply(lambda row: compute_accuracy(row[\"stanza_lemmatized_diac\"], row[\"correct_lemmas\"]), axis=1)\n",
        "# #     print(f\"Lemmatization Accuracy: {df['lemma_accuracy'].mean():.2f}%\")\n"
      ],
      "metadata": {
        "id": "8YcA_-_gizaT"
      },
      "execution_count": 13,
      "outputs": []
    },
    {
      "cell_type": "markdown",
      "source": [
        "##FarasaPy for stemming, documentation of farasa has lemmatization but farasaPy doesnt"
      ],
      "metadata": {
        "id": "_6rARl4Yu4jG"
      }
    },
    {
      "cell_type": "code",
      "source": [
        "#testing farasa py instead of arabert so that i dont need to downgrade libraries (emoji for some reason)\n",
        "!pip install -U farasapy\n",
        "from farasa.stemmer import FarasaStemmer # so farasapy's doc has stemming but farasa has lemmatization so will revisit after next dr. appointment but for now i like the results of the stemmer\n",
        "#link: https://farasa.qcri.org/lemmatization/\n",
        "#but this if proven to work with farasa only i might need to use Java or wrap myself\n",
        "\n",
        "stemmer = FarasaStemmer(interactive=True)# from the doic here im not exactly sure what is the diff between interactive mode and normal: https://colab.research.google.com/drive/1xjzYwmfAszNzfR6Z2lSQi3nKYcjarXAW?usp=sharing#scrollTo=tn9qwsYgSsHx\n",
        "#update i use interactive so that i do batch preprocessing because noirmal mode starts a new java process for each stem req independently so stem() doesnt restart so interactive mode Keeps the Java process running so faster (batch is better with interactive mode)\n",
        "df_normalized_reviews[\"stemmed_text\"] = df_normalized_reviews[\"filtered_tokens\"].apply(\n",
        "    lambda tokens: [stemmer.stem(word) for word in tokens]  # Stem each word separately cause i get a list error\n",
        ")\n",
        "\n",
        "#sample\n",
        "print(df_normalized_reviews[[\"filtered_tokens\", \"stemmed_text\"]].head())\n",
        "\n",
        "# Terminate the stemmer to free resources this is a bestpractice\n",
        "stemmer.terminate()\n",
        "\n",
        "\n",
        "\n"
      ],
      "metadata": {
        "colab": {
          "base_uri": "https://localhost:8080/"
        },
        "id": "vboGM4QJPl4o",
        "outputId": "2a7eb3ff-6c94-4953-9d0b-2c98b85cd750"
      },
      "execution_count": 14,
      "outputs": [
        {
          "output_type": "stream",
          "name": "stdout",
          "text": [
            "Collecting farasapy\n",
            "  Downloading farasapy-0.0.14-py3-none-any.whl.metadata (8.9 kB)\n",
            "Requirement already satisfied: requests in /usr/local/lib/python3.11/dist-packages (from farasapy) (2.32.3)\n",
            "Requirement already satisfied: tqdm in /usr/local/lib/python3.11/dist-packages (from farasapy) (4.67.1)\n",
            "Requirement already satisfied: charset-normalizer<4,>=2 in /usr/local/lib/python3.11/dist-packages (from requests->farasapy) (3.4.1)\n",
            "Requirement already satisfied: idna<4,>=2.5 in /usr/local/lib/python3.11/dist-packages (from requests->farasapy) (3.10)\n",
            "Requirement already satisfied: urllib3<3,>=1.21.1 in /usr/local/lib/python3.11/dist-packages (from requests->farasapy) (2.3.0)\n",
            "Requirement already satisfied: certifi>=2017.4.17 in /usr/local/lib/python3.11/dist-packages (from requests->farasapy) (2025.1.31)\n",
            "Downloading farasapy-0.0.14-py3-none-any.whl (11 kB)\n",
            "Installing collected packages: farasapy\n",
            "Successfully installed farasapy-0.0.14\n"
          ]
        },
        {
          "output_type": "stream",
          "name": "stderr",
          "text": [
            "/usr/local/lib/python3.11/dist-packages/urllib3/connectionpool.py:1097: InsecureRequestWarning: Unverified HTTPS request is being made to host 'farasa-api.qcri.org'. Adding certificate verification is strongly advised. See: https://urllib3.readthedocs.io/en/latest/advanced-usage.html#tls-warnings\n",
            "  warnings.warn(\n"
          ]
        },
        {
          "output_type": "stream",
          "name": "stdout",
          "text": [
            "100%|██████████| 241M/241M [11:22<00:00, 353kiB/s]\n"
          ]
        },
        {
          "output_type": "stream",
          "name": "stderr",
          "text": [
            "[2025-04-04 18:39:33,326 - farasapy_logger - WARNING]: Be careful with large lines as they may break on interactive mode. You may switch to Standalone mode for such cases.\n"
          ]
        },
        {
          "output_type": "stream",
          "name": "stdout",
          "text": [
            "                                                                                                                   filtered_tokens                                                                                                      stemmed_text\n",
            "0                                                                                                [ممتاز, النظافه, والطاقم, متعاون]                                                                                      [ممتاز, نظافه, طاقم, متعاون]\n",
            "1                                                                             [استثنائي, سهوله, انهاء, المعامله, الاستقبال, لاشيئ]                                                                    [استثنائي, سهل, إنهاء, معامله, استقبال, لاشيئ]\n",
            "2                                                         [استثنائي, انصح, باختيار, الاسويت, و, بالاخص, غرفه, رقم, نوعيه, الارضيه]                                                   [استثنائي, انصح, اختيار, اسويت, و, اخص, غرفة, رقم, نوعي, ارضيه]\n",
            "3                                                                         [استغرب, تقييم, الفندق, كخمس, نجوم, لا, شي, يستحق, نجمه]                                                               [استغرب, تقييم, فندق, خمس, نجم, لا, شي, استحق, نجم]\n",
            "4  [جيد, المكان, جميل, وهاديء, كل, شي, جيد, ونظيف, بس, كان, حوض, السباحه, لايعمل, هذي, الفتره, كلامهم, يقولوا, صيانه, والله, اعلم]  [جيد, مكان, جميل, هاديء, كل, شي, جيد, نظيف, بس, كان, حوض, سباحه, لايعمل, هذا, فتره, كلام, قال, صيان, الله, اعلم]\n"
          ]
        }
      ]
    },
    {
      "cell_type": "markdown",
      "source": [
        "##After stemming with farasa we can now proceed to word embeddings so that ML models understand words. here we use **TF-IDF**"
      ],
      "metadata": {
        "id": "LMOsZh7fORu0"
      }
    },
    {
      "cell_type": "code",
      "source": [
        "df_normalized_reviews.info()#mkaing sure  i have a col for each step i did\n",
        "from sklearn.feature_extraction.text import CountVectorizer\n",
        "\n",
        "# Init, i use it to know how many unique words i have now to see how big of a vocab i should use with tf\n",
        "vectorizer = CountVectorizer()\n",
        "\n",
        "# Ensure the text is in string format and not just tokens cause it cant run on tokens\n",
        "df_normalized_reviews[\"stemmed_text\"] = df_normalized_reviews[\"stemmed_text\"].apply(lambda x: \" \".join(x) if isinstance(x, list) else x) ##chatgpt cause i didnt know how\n",
        "\n",
        "\n",
        "vectorizer.fit(df_normalized_reviews[\"stemmed_text\"])\n",
        "\n",
        "\n",
        "print(\"Total unique words before TF-IDF:\", len(vectorizer.vocabulary_))\n",
        "\n"
      ],
      "metadata": {
        "id": "J2Et3nbNs9bK",
        "colab": {
          "base_uri": "https://localhost:8080/"
        },
        "outputId": "e75382bb-9299-44f1-8257-b2baad745f24"
      },
      "execution_count": 15,
      "outputs": [
        {
          "output_type": "stream",
          "name": "stdout",
          "text": [
            "<class 'pandas.core.frame.DataFrame'>\n",
            "Index: 102962 entries, 0 to 105697\n",
            "Data columns (total 6 columns):\n",
            " #   Column             Non-Null Count   Dtype \n",
            "---  ------             --------------   ----- \n",
            " 0   rating             102962 non-null  int64 \n",
            " 1   review             102962 non-null  object\n",
            " 2   normalized_review  102962 non-null  object\n",
            " 3   tokens             102962 non-null  object\n",
            " 4   filtered_tokens    102962 non-null  object\n",
            " 5   stemmed_text       102962 non-null  object\n",
            "dtypes: int64(1), object(5)\n",
            "memory usage: 5.5+ MB\n",
            "Total unique words before TF-IDF: 71030\n"
          ]
        }
      ]
    },
    {
      "cell_type": "markdown",
      "source": [
        "saving the df for later so i dont have to reload runtime a lot"
      ],
      "metadata": {
        "id": "8BfFq_E43wfe"
      }
    },
    {
      "cell_type": "code",
      "source": [
        "# from google.colab import drive\n",
        "# drive.mount('/content/drive')\n",
        "df_normalized_reviews.to_csv(\"/content/drive/My Drive/processed_data.csv\", index=False, encoding=\"utf-8-sig\") #fixed it utf-8 doesnt wokr although it did before\n",
        "\n",
        "#load it back\n",
        "# df_normalized_reviews = pd.read_csv(\"/content/drive/My Drive/processed_data.csv\")\n"
      ],
      "metadata": {
        "id": "XgJPHw5H-_pq"
      },
      "execution_count": 16,
      "outputs": []
    },
    {
      "cell_type": "markdown",
      "source": [
        "#since tf-idf breaks my ram and env i try cuML:"
      ],
      "metadata": {
        "id": "iEZrM83T-3MM"
      }
    },
    {
      "cell_type": "code",
      "source": [
        "from sklearn.feature_extraction.text import TfidfVectorizer # this is good: https://www.youtube.com/watch?v=rcovF6S1oFI\n",
        "tfidf_vectorizer = TfidfVectorizer(max_features=9000)  #setting max features to non would basically run tf-idf on all 71030 unique words which is absurd. ill test around 20k-50k will revisit pending looking at documentation and a few tutorials more\n",
        "\n",
        "# Fit and transform the stemmed text\n",
        "tfidf_matrix = tfidf_vectorizer.fit_transform(df_normalized_reviews[\"stemmed_text\"])\n",
        "\n",
        "# Convert sparse matrix to DataFrame\n",
        "tfidf_df = pd.DataFrame(tfidf_matrix.toarray(), columns=tfidf_vectorizer.get_feature_names_out())\n",
        "\n",
        "# Merge with the original DataFrame\n",
        "df_normalized_reviews = pd.concat([df_normalized_reviews, tfidf_df], axis=1)\n",
        "\n",
        "\n",
        "print(df_normalized_reviews.head())\n",
        "print(df_normalized_reviews.info())\n",
        "#session crashes not enough rammmmmmmmmmmmmmmmm. i can run max of 7.5k or around that"
      ],
      "metadata": {
        "id": "9D9uXsS92nxX"
      },
      "execution_count": null,
      "outputs": []
    },
    {
      "cell_type": "markdown",
      "source": [
        "##We now have our reviews in a numerical form and ready for modelling"
      ],
      "metadata": {
        "id": "MQO7_va-PPm-"
      }
    },
    {
      "cell_type": "code",
      "source": [
        "# pip install -U scikit-learn==1.2.2\n"
      ],
      "metadata": {
        "id": "fK75JTjjp4ZK"
      },
      "execution_count": null,
      "outputs": []
    },
    {
      "cell_type": "code",
      "source": [
        "# prompt: i would like to install and run tpot to find the best hyperparameters using the result of tf-idf and rating as the target variable. use default parameters. show evaluation and save and show the best model with the best parameters. only use the tf-idf result (tfidf_df) and not all of the dataframe as i have many columns each represnting a part where i clean\n",
        "\n",
        "!pip install tpot\n",
        "\n",
        "from tpot import TPOTClassifier\n",
        "from sklearn.model_selection import train_test_split\n",
        "\n",
        "# Assuming 'tfidf_df' and 'rating' are defined in your previous code\n",
        "X = tfidf_df\n",
        "y = df_normalized_reviews['rating']\n",
        "\n",
        "X_train, X_test, y_train, y_test = train_test_split(X, y, train_size=0.75, test_size=0.25)\n",
        "\n",
        "tpot = TPOTClassifier(generations=5, population_size=50, verbosity=2, random_state=42) #default params\n",
        "tpot.fit(X_train, y_train)\n",
        "\n",
        "print(tpot.score(X_test, y_test))\n",
        "\n",
        "tpot.export('tpot_exported_pipeline.py')\n",
        "\n",
        "tpot.fitted_pipeline_\n"
      ],
      "metadata": {
        "id": "EBxwhaom-pZr"
      },
      "execution_count": null,
      "outputs": []
    },
    {
      "cell_type": "code",
      "source": [
        "!pip install tpot\n",
        ".p,9\n",
        "from sklearn.model_selection import train_test_split, cross_val_score\n",
        "from tpot import TPOTClassifier\n",
        "# import pickle\n",
        "\n",
        "\n",
        "\n",
        "# Ensure correct data types\n",
        "X = df_normalized_reviews.drop(columns=[\"rating\"]).astype(float)  # we drop rating from the reviews here\n",
        "y = df_normalized_reviews[\"rating\"].astype(int)  # Ensure ratings are integers\n",
        "\n",
        "# conv ratings into a binary classification (Positive = 1, Negative = 0) as mentioned earlier (1,2 negative and 4,5 are positive with no neutral)\n",
        "y = y.apply(lambda x: 1 if x >= 4 else 0)\n",
        "\n",
        "#correct shapes\n",
        "print(f\"Feature Matrix Shape: {X.shape}, Target Vector Shape: {y.shape}\")\n",
        "\n",
        "# Split data into training & testing sets\n",
        "X_train, X_test, y_train, y_test = train_test_split(\n",
        "    X, y, test_size=0.2, random_state=42, stratify=y # the norm\n",
        ")\n",
        "print(f\"Training Size: {X_train.shape}, Testing Size: {X_test.shape}\")\n",
        "\n",
        "tpot = TPOTClassifier() #init of the tpot classifier with default settings which are the following from the docs:\n",
        "# generations\t100\t            Number of iterations TPOT runs for optimization.\n",
        "# population_size\t100\t        Number of pipelines in each generation.\n",
        "# offspring_size\tNone        (same as population_size)\tNumber of new pipelines created per generation.\n",
        "# mutation_rate\t0.9\t          Probability of mutation in the genetic algorithm.\n",
        "# crossover_rate\t0.1\t        Probability of crossover (recombining pipelines).\n",
        "# scoring\t'accuracy'\t        Evaluation metric (can be changed to precision, recall, etc.).\n",
        "# cv\t5\t                      Default cross-validation strategy (5-fold CV).\n",
        "# subsample\t1.0\t              Fraction of data used during optimization.\n",
        "# n_jobs\t1\t                  Number of parallel jobs (-1 uses all CPU cores).\n",
        "# max_time_mins\tNone\t        No time limit by default.\n",
        "# max_eval_time_mins\t5\t      Maximum time per pipeline evaluation (in minutes).\n",
        "# early_stop\tNone\t          No early stopping by default.\n",
        "# config_dict\t'TPOT sparse'\t  Defines which models TPOT considers (e.g., classifiers, regressors).\n",
        "# warm_start\tFalse\t          If True, TPOT continues training from previous state.\n",
        "# memory\tNone\t              Caching mechanism for pipelines.\n",
        "# verbosity\t0\t                Controls logging level (0 = silent, 3 = detailed output).\n",
        "\n",
        "\n",
        "#training to find best model\n",
        "tpot.fit(X_train, y_train)\n",
        "\n",
        "# Evaluate using cv\n",
        "cv_scores = cross_val_score(tpot.fitted_pipeline_, X_train, y_train, cv=5)\n",
        "print(f\"Cross-validation Accuracy Scores: {cv_scores}\")\n",
        "print(f\" Mean CV Accuracy: {np.mean(cv_scores):.4f}\")\n",
        "\n",
        "# Evaluate TPOT on test data\n",
        "test_accuracy = tpot.score(X_test, y_test)\n",
        "print(f\"TPOT Best Model Test Accuracy: {test_accuracy:.4f}\")\n",
        "\n",
        "#chatgpt from here\n",
        "# Export the best model as a Python script\n",
        "tpot.export(\"best_tpot_pipeline.py\")\n",
        "\n",
        "# Save the trained best model for later use\n",
        "with open(\"tpot_best_model.pkl\", \"wb\") as f:\n",
        "    pickle.dump(tpot.fitted_pipeline_, f)\n",
        "print(\"TPOT best model saved successfully!\")\n"
      ],
      "metadata": {
        "id": "xF0y8cOQPYLr"
      },
      "execution_count": null,
      "outputs": []
    },
    {
      "cell_type": "code",
      "source": [],
      "metadata": {
        "id": "FMMzNgwhCtsN"
      },
      "execution_count": null,
      "outputs": []
    }
  ]
}