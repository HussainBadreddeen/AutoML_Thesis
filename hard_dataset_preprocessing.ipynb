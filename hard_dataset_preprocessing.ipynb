{
  "nbformat": 4,
  "nbformat_minor": 0,
  "metadata": {
    "colab": {
      "provenance": [],
      "authorship_tag": "ABX9TyNwBlqBkYlLd1OmC/hydIBf",
      "include_colab_link": true
    },
    "kernelspec": {
      "name": "python3",
      "display_name": "Python 3"
    },
    "language_info": {
      "name": "python"
    }
  },
  "cells": [
    {
      "cell_type": "markdown",
      "metadata": {
        "id": "view-in-github",
        "colab_type": "text"
      },
      "source": [
        "<a href=\"https://colab.research.google.com/github/HussainBadreddeen/AutoML_Thesis/blob/main/hard_dataset_preprocessing.ipynb\" target=\"_parent\"><img src=\"https://colab.research.google.com/assets/colab-badge.svg\" alt=\"Open In Colab\"/></a>"
      ]
    },
    {
      "cell_type": "code",
      "execution_count": null,
      "metadata": {
        "id": "NGVZQ1rp-Q2m",
        "colab": {
          "base_uri": "https://localhost:8080/"
        },
        "outputId": "a1dc95a4-e622-4f13-a474-c5ebbce73a8d"
      },
      "outputs": [
        {
          "output_type": "stream",
          "name": "stdout",
          "text": [
            "   no Hotel name  rating    user type                   room type  \\\n",
            "0   2    فندق 72       2  مسافر منفرد  غرفة ديلوكس مزدوجة أو توأم   \n",
            "1   3    فندق 72       5          زوج  غرفة ديلوكس مزدوجة أو توأم   \n",
            "2  16    فندق 72       5          زوج                           -   \n",
            "3  20    فندق 72       1          زوج          غرفة قياسية مزدوجة   \n",
            "4  23    فندق 72       4          زوج  غرفة ديلوكس مزدوجة أو توأم   \n",
            "\n",
            "            nights                                             review  \n",
            "0  أقمت ليلة واحدة                  “ممتاز”. النظافة والطاقم متعاون.   \n",
            "1  أقمت ليلة واحدة  استثنائي. سهولة إنهاء المعاملة في الاستقبال. ل...  \n",
            "2      أقمت ليلتين  استثنائي. انصح بأختيار الاسويت و بالاخص غرفه ر...  \n",
            "3  أقمت ليلة واحدة  “استغرب تقييم الفندق كخمس نجوم”. لا شي. يستحق ...  \n",
            "4      أقمت ليلتين  جيد. المكان جميل وهاديء. كل شي جيد ونظيف بس كا...  \n",
            "<class 'pandas.core.frame.DataFrame'>\n",
            "RangeIndex: 105698 entries, 0 to 105697\n",
            "Data columns (total 7 columns):\n",
            " #   Column      Non-Null Count   Dtype \n",
            "---  ------      --------------   ----- \n",
            " 0   no          105698 non-null  int64 \n",
            " 1   Hotel name  105698 non-null  object\n",
            " 2   rating      105698 non-null  int64 \n",
            " 3   user type   105698 non-null  object\n",
            " 4   room type   105698 non-null  object\n",
            " 5   nights      105698 non-null  object\n",
            " 6   review      105698 non-null  object\n",
            "dtypes: int64(2), object(5)\n",
            "memory usage: 5.6+ MB\n"
          ]
        }
      ],
      "source": [
        "import pandas as pd\n",
        "\n",
        "\n",
        "# from google.colab import drive\n",
        "# drive.mount('/content/drive')\n",
        "\n",
        "\n",
        "file_path = \"/content/drive/MyDrive/thesisdata/balanced-reviews.txt\"\n",
        "\n",
        "# Load as a DataFrame (change delimiter if needed)\n",
        "df = pd.read_csv(file_path, sep=\"\\t\", encoding=\"utf-16\")  # Try \",\" if \"\\t\" doesn’t work\n",
        "\n",
        "# Show the first few rows\n",
        "print(df.head())\n",
        "df.info()\n",
        "\n"
      ]
    },
    {
      "cell_type": "code",
      "source": [],
      "metadata": {
        "id": "8H5Z2T_aHe8b"
      },
      "execution_count": null,
      "outputs": []
    }
  ]
}